{
 "cells": [
  {
   "cell_type": "markdown",
   "id": "1f7b032b",
   "metadata": {},
   "source": [
    "# Self-training for ASR with HuggingFace"
   ]
  },
  {
   "cell_type": "markdown",
   "id": "6e114f49",
   "metadata": {},
   "source": [
    "Performance of atomatic speech recognition (ASR) models had increased substantially during last years. Unfortunatly the performance on low resource languages might still be mediocre.\n",
    "To improve the performance in low data regime self-training is often employed. Noizy-student[ref] is popular self-training method. Iterative pseudo-labeling is particularly well suited for ASR. One can fuse audio model with language model to improve the speech recognition performance. Language model not only provides a mean to improve quality of pseudo-labels but also the LM fusion scores can be used to filter pseudo labeled data to select most confident samples. In this notebook I employ simple heuristic for filtering the data introduced in [Improved Noisy Student Training for Automatic Speech Recognition](https://arxiv.org/abs/2005.09629)."
   ]
  },
  {
   "cell_type": "markdown",
   "id": "07cf269e",
   "metadata": {},
   "source": [
    "I'm using [pyctcdecode] - integrating LM to ASR system. For detailed introduction to training KenLM and using it with HuggingFace refer to [this  exelent blogpost](https://huggingface.co/blog/wav2vec2-with-ngram)."
   ]
  },
  {
   "cell_type": "code",
   "execution_count": null,
   "id": "b880d65c",
   "metadata": {},
   "outputs": [],
   "source": [
    "# !pip install git+https://github.com/arampacha/transformers.git@wav2vec2-with-lm-decode-score"
   ]
  },
  {
   "cell_type": "code",
   "execution_count": 1,
   "id": "f85b3ae0",
   "metadata": {},
   "outputs": [],
   "source": [
    "import os\n",
    "import glob\n",
    "\n",
    "import numpy as np\n",
    "import matplotlib.pyplot as plt\n",
    "import torch\n",
    "import torch.nn.functional as F\n",
    "from torch.utils.data import DataLoader\n",
    "\n",
    "from tqdm.auto import tqdm\n",
    "\n",
    "from transformers import (\n",
    "    Wav2Vec2ProcessorWithLM, \n",
    "    Wav2Vec2Processor, \n",
    "    Wav2Vec2FeatureExtractor,\n",
    "    Wav2Vec2CTCTokenizer,\n",
    "    Wav2Vec2ForCTC,\n",
    "    Trainer,\n",
    "    TrainingArguments,\n",
    ")\n",
    "\n",
    "from datasets import load_dataset, load_metric, Audio\n",
    "\n",
    "import bitsandbytes as bnb"
   ]
  },
  {
   "cell_type": "code",
   "execution_count": 2,
   "id": "eef750c4",
   "metadata": {},
   "outputs": [
    {
     "name": "stdout",
     "output_type": "stream",
     "text": [
      "env: WANDB_ENTITY=arampacha\n",
      "env: WANDB_PROJECT=xlsr-hy\n",
      "env: WANDB_LOG_MODEL=false\n",
      "env: WANDB_WATCH=false\n"
     ]
    }
   ],
   "source": [
    "import wandb\n",
    "\n",
    "%env WANDB_ENTITY = arampacha\n",
    "wandb_entity = os.environ[\"WANDB_ENTITY\"]\n",
    "\n",
    "%env WANDB_PROJECT = xlsr-hy\n",
    "wandb_project = os.environ[\"WANDB_PROJECT\"]\n",
    "\n",
    "%env WANDB_LOG_MODEL = false\n",
    "%env WANDB_WATCH = false"
   ]
  },
  {
   "cell_type": "code",
   "execution_count": 3,
   "id": "09a071f6",
   "metadata": {},
   "outputs": [],
   "source": [
    "import torch\n",
    "\n",
    "from dataclasses import dataclass, field\n",
    "from typing import Any, Dict, List, Optional, Union\n",
    "\n",
    "@dataclass\n",
    "class DataCollatorCTCWithPadding:\n",
    "    \"\"\"\n",
    "    Data collator that will dynamically pad the inputs received.\n",
    "    Args:\n",
    "        processor (:class:`~transformers.Wav2Vec2Processor`)\n",
    "            The processor used for proccessing the data.\n",
    "        padding (:obj:`bool`, :obj:`str` or :class:`~transformers.tokenization_utils_base.PaddingStrategy`, `optional`, defaults to :obj:`True`):\n",
    "            Select a strategy to pad the returned sequences (according to the model's padding side and padding index)\n",
    "            among:\n",
    "            * :obj:`True` or :obj:`'longest'`: Pad to the longest sequence in the batch (or no padding if only a single\n",
    "              sequence if provided).\n",
    "            * :obj:`'max_length'`: Pad to a maximum length specified with the argument :obj:`max_length` or to the\n",
    "              maximum acceptable input length for the model if that argument is not provided.\n",
    "            * :obj:`False` or :obj:`'do_not_pad'` (default): No padding (i.e., can output a batch with sequences of\n",
    "              different lengths).\n",
    "    \"\"\"\n",
    "\n",
    "    processor: Wav2Vec2Processor\n",
    "    padding: Union[bool, str] = True\n",
    "\n",
    "    def __call__(self, features: List[Dict[str, Union[List[int], torch.Tensor]]]) -> Dict[str, torch.Tensor]:\n",
    "        # split inputs and labels since they have to be of different lenghts and need\n",
    "        # different padding methods\n",
    "        input_features = [{\"input_values\": feature[\"input_values\"]} for feature in features]\n",
    "        \n",
    "\n",
    "        batch = self.processor.pad(\n",
    "            input_features,\n",
    "            padding=self.padding,\n",
    "            return_tensors=\"pt\",\n",
    "        )\n",
    "        \n",
    "        if \"labels\" in features[0].keys():\n",
    "            label_features = [{\"input_ids\": feature[\"labels\"]} for feature in features]\n",
    "            with self.processor.as_target_processor():\n",
    "                labels_batch = self.processor.pad(\n",
    "                    label_features,\n",
    "                    padding=self.padding,\n",
    "                    return_tensors=\"pt\",\n",
    "                )\n",
    "\n",
    "            # replace padding with -100 to ignore loss correctly\n",
    "            labels = labels_batch[\"input_ids\"].masked_fill(labels_batch.attention_mask.ne(1), -100)\n",
    "\n",
    "            batch[\"labels\"] = labels\n",
    "\n",
    "        return batch"
   ]
  },
  {
   "cell_type": "markdown",
   "id": "91d44862",
   "metadata": {},
   "source": [
    "## Scores for filtering"
   ]
  },
  {
   "cell_type": "markdown",
   "id": "bfb897a0",
   "metadata": {},
   "source": [
    "The first we need a model trained on labeled data. Common Voice dataset has 738 training samples for Armenian and I haven't found any additional labeled data publically available.\n",
    "The model pretrained on Common Voice is available [here](). It achieves 22.6 word error rate (WER) with LM boosted decoding.\n",
    "\n",
    "Notice that large ASR models like those of Wav2Vec2-XLS-R family can learn grammar in some extent. At some point during training the model can start to overfit to train set vocab. The valid loss stops decreasing while validation WER still improves. In my experience validation loss is better indicator of performance after LM fusion."
   ]
  },
  {
   "cell_type": "code",
   "execution_count": 14,
   "id": "587f0491",
   "metadata": {
    "id": "A1XApZBAF2zr"
   },
   "outputs": [],
   "source": [
    "model_dir = \"wav2vec2-xls-r-300m-hy-ns\"\n",
    "lang_id = \"hy-AM\"\n",
    "\n",
    "repo_name = \"wav2vec2-xls-r-300m-hy-ns\""
   ]
  },
  {
   "cell_type": "code",
   "execution_count": 5,
   "id": "4cd1a55c",
   "metadata": {},
   "outputs": [],
   "source": [
    "@torch.no_grad()\n",
    "def predict(model, dataset, bs=32, device=\"cpu\"):\n",
    "    model.eval()\n",
    "    model.to(device)\n",
    "    loader = DataLoader(\n",
    "        dataset, batch_size=bs, collate_fn=data_collator, shuffle=False, drop_last=False, num_workers=4\n",
    "    )\n",
    "    all_logits = []\n",
    "    for batch in tqdm(loader):\n",
    "        batch = {k:v.to(device) for k,v in batch.items()}\n",
    "        logits = model(**batch).logits.cpu()\n",
    "        all_logits.append(logits)\n",
    "    lens = [logits.shape[1] for logits in all_logits]\n",
    "    max_len = max(lens)\n",
    "    all_logits = [F.pad(logits, (0, 0, 0, max_len-l), value=-100.) for logits, l in zip(all_logits, lens)]\n",
    "    return torch.cat(all_logits)"
   ]
  },
  {
   "cell_type": "code",
   "execution_count": 6,
   "id": "0e6296c4",
   "metadata": {},
   "outputs": [
    {
     "name": "stderr",
     "output_type": "stream",
     "text": [
      "Reusing dataset common_voice (/workspace/cache/hf/datasets/mozilla-foundation___common_voice/hy-AM/8.0.0/b8bc4d453193c06a43269b46cd87f075c70f152ac963b7f28f7a2760c45ec3e8)\n",
      "Reusing dataset common_voice (/workspace/cache/hf/datasets/mozilla-foundation___common_voice/hy-AM/8.0.0/b8bc4d453193c06a43269b46cd87f075c70f152ac963b7f28f7a2760c45ec3e8)\n"
     ]
    },
    {
     "name": "stdout",
     "output_type": "stream",
     "text": [
      "728 335\n"
     ]
    }
   ],
   "source": [
    "common_voice_train = load_dataset(\"mozilla-foundation/common_voice_8_0\", lang_id, split=\"train+validation\", use_auth_token=True)\n",
    "common_voice_test = load_dataset(\"mozilla-foundation/common_voice_8_0\", lang_id, split=\"test\", use_auth_token=True)\n",
    "common_voice_train = common_voice_train.remove_columns([\"accent\", \"age\", \"gender\", \"client_id\", \"down_votes\", \"locale\", \"segment\", \"up_votes\"])\n",
    "common_voice_test = common_voice_test.remove_columns([\"accent\", \"age\", \"gender\", \"client_id\", \"down_votes\", \"locale\", \"segment\", \"up_votes\"])\n",
    "common_voice_train = common_voice_train.cast_column(\"audio\", Audio(sampling_rate=16_000))\n",
    "common_voice_test = common_voice_test.cast_column(\"audio\", Audio(sampling_rate=16_000))\n",
    "print(len(common_voice_train), len(common_voice_test))"
   ]
  },
  {
   "cell_type": "code",
   "execution_count": 7,
   "id": "d0559b14",
   "metadata": {
    "id": "5wwnpaPWS3Yp"
   },
   "outputs": [],
   "source": [
    "def extract_all_chars(batch):\n",
    "    all_text = \" \".join(batch[\"sentence\"])\n",
    "    vocab = list(set(all_text))\n",
    "    return {\"vocab\": [vocab], \"all_text\": [all_text]}"
   ]
  },
  {
   "cell_type": "code",
   "execution_count": 8,
   "id": "4ab5078e",
   "metadata": {
    "id": "svKzVJ_hQGK6"
   },
   "outputs": [],
   "source": [
    "import re\n",
    "chars_to_remove_regex = '[\\,\\?\\.\\!\\-\\;\\:\\\"\\“\\%\\‘\\”\\�\\'«»\\(\\)։՝՞՛՚]'\n",
    "\n",
    "def normalize_text(batch):\n",
    "    text = batch[\"sentence\"]\n",
    "    text = re.sub(chars_to_remove_regex, '', text.lower())+\" \"\n",
    "    return {\"sentence\":text}"
   ]
  },
  {
   "cell_type": "code",
   "execution_count": 9,
   "id": "8f1a2a10",
   "metadata": {},
   "outputs": [
    {
     "data": {
      "application/vnd.jupyter.widget-view+json": {
       "model_id": "b1b0149da3ff4b0680a38305a661577d",
       "version_major": 2,
       "version_minor": 0
      },
      "text/plain": [
       "0ex [00:00, ?ex/s]"
      ]
     },
     "metadata": {},
     "output_type": "display_data"
    },
    {
     "data": {
      "application/vnd.jupyter.widget-view+json": {
       "model_id": "0b7d4e826938480c9454225b6737e286",
       "version_major": 2,
       "version_minor": 0
      },
      "text/plain": [
       "0ex [00:00, ?ex/s]"
      ]
     },
     "metadata": {},
     "output_type": "display_data"
    }
   ],
   "source": [
    "common_voice_train = common_voice_train.map(normalize_text)\n",
    "common_voice_test = common_voice_test.map(normalize_text)"
   ]
  },
  {
   "cell_type": "code",
   "execution_count": 10,
   "id": "57a171c6",
   "metadata": {},
   "outputs": [
    {
     "data": {
      "text/plain": [
       "['վատիկանի թանգարանները համարվում են աշխարհում ամենամեծ թանգարաններից մեկը ',\n",
       " 'լոյանը չինական հնագույն բնակավայրերից է ',\n",
       " 'կան նաև սանրեր կենդանիների բրդի համար ',\n",
       " 'այդպես կայացել է նրանց ծանոթությունը ',\n",
       " 'որոշումը ենթարկվել է քննադատության ']"
      ]
     },
     "execution_count": 10,
     "metadata": {},
     "output_type": "execute_result"
    }
   ],
   "source": [
    "test_transcripts = common_voice_test[\"sentence\"]\n",
    "test_transcripts[:5]"
   ]
  },
  {
   "cell_type": "code",
   "execution_count": 11,
   "id": "5ffc5e79",
   "metadata": {
    "colab": {
     "base_uri": "https://localhost:8080/",
     "height": 87,
     "referenced_widgets": [
      "d45b3c0d9cd7477b84db7806a0aa242a",
      "2627f4b2bc7347138889b2c95660ac9b",
      "00d9b7b8b42e485c9ffc6ec3f2d8e1f1",
      "1bde4d8cdc7644d5b83133cb938d8a14",
      "4f8ddf69b33e497b853db23fabbd511f",
      "710f36c459e74b1aa2bf0ca4c18b79ea",
      "4c7f20fbe4e94f1bac9eb927abc26cf1",
      "f53c51a2c1b246f8b2ec99dd56c4a949",
      "22da456d1d794588bfd33e25a7e6a438",
      "7898dfcedb624880814054c5a1fc303d",
      "92303b20f54a468dbc925dc9fc556678",
      "5119bfae921644e7bb7431866aff8617",
      "f397c1c4df7d4382b88a872f7df3273c",
      "d7e089edd08f4368a25afefc6c2f26c9",
      "4bedda3bf24745d799bf94784ceebb11",
      "63ed4a2856684bfaa27854e79737f319",
      "522522b636554d3bba239c7d9699f0ec",
      "5619bcab0d784f17b679e217af2f19ec",
      "91367348d19f4fdc9c2b545fa4a3b55e",
      "56f788f333424445a8cf0d3684040833",
      "a0c64d54b9c64e7b972b340631ebe131",
      "3a38d7f31f9e482d8213024d5e9e11dd"
     ]
    },
    "id": "mWCWlJxKVG8R",
    "outputId": "3ed97b16-dd66-4dbf-d640-6e61e2803af3"
   },
   "outputs": [
    {
     "data": {
      "application/vnd.jupyter.widget-view+json": {
       "model_id": "9375f9f173e54e67be563d1961a7272b",
       "version_major": 2,
       "version_minor": 0
      },
      "text/plain": [
       "  0%|          | 0/1 [00:00<?, ?ba/s]"
      ]
     },
     "metadata": {},
     "output_type": "display_data"
    },
    {
     "data": {
      "application/vnd.jupyter.widget-view+json": {
       "model_id": "ea787754d59b41f5b60de6219e5965a2",
       "version_major": 2,
       "version_minor": 0
      },
      "text/plain": [
       "  0%|          | 0/1 [00:00<?, ?ba/s]"
      ]
     },
     "metadata": {},
     "output_type": "display_data"
    }
   ],
   "source": [
    "vocab_train = common_voice_train.map(extract_all_chars, batched=True, batch_size=-1, keep_in_memory=True, remove_columns=common_voice_train.column_names)\n",
    "vocab_test = common_voice_test.map(extract_all_chars, batched=True, batch_size=-1, keep_in_memory=True, remove_columns=common_voice_test.column_names)"
   ]
  },
  {
   "cell_type": "code",
   "execution_count": 12,
   "id": "a7ef8f9f",
   "metadata": {
    "colab": {
     "base_uri": "https://localhost:8080/"
    },
    "id": "ftfPmrILVKAf",
    "outputId": "558a1e9c-79c9-4ebf-ea7e-07acf13f64d8"
   },
   "outputs": [
    {
     "name": "stdout",
     "output_type": "stream",
     "text": [
      " աբգդեզէըթժիլխծկհձղճմյնշոչպջռսվտրցւփքօֆև\n",
      " աբգդեզէըթժիլխծկհձղճմյնշոչպջռսվտրցւփքօֆև\n"
     ]
    }
   ],
   "source": [
    "all_chars_train = sorted(vocab_train[\"vocab\"][0])\n",
    "all_chars_test = sorted(vocab_test[\"vocab\"][0])\n",
    "print(\"\".join(all_chars_train))\n",
    "print(\"\".join(all_chars_test))"
   ]
  },
  {
   "cell_type": "code",
   "execution_count": 13,
   "id": "00ce056a",
   "metadata": {
    "colab": {
     "base_uri": "https://localhost:8080/"
    },
    "id": "zjjy24oYFYv0",
    "outputId": "34cf5861-01d6-47b2-9386-f1f947d200c5"
   },
   "outputs": [
    {
     "data": {
      "text/plain": [
       "42"
      ]
     },
     "execution_count": 13,
     "metadata": {},
     "output_type": "execute_result"
    }
   ],
   "source": [
    "vocab_dict = {v: k for k, v in enumerate(sorted(vocab_train[\"vocab\"][0]))}\n",
    "vocab_dict[\"|\"] = vocab_dict[\" \"]\n",
    "del vocab_dict[\" \"]\n",
    "vocab_dict[\"[UNK]\"] = len(vocab_dict)\n",
    "vocab_dict[\"[PAD]\"] = len(vocab_dict)\n",
    "len(vocab_dict)"
   ]
  },
  {
   "cell_type": "code",
   "execution_count": 15,
   "id": "60904ad1",
   "metadata": {
    "id": "3ejaTqKwEOkU"
   },
   "outputs": [],
   "source": [
    "if not os.path.isfile(f\"{model_dir}/vocab.json\"):\n",
    "    import json\n",
    "    with open(f\"{model_dir}/vocab.json\", \"w\") as f:\n",
    "        json.dump(vocab_dict, f)"
   ]
  },
  {
   "cell_type": "code",
   "execution_count": 16,
   "id": "0680fa06",
   "metadata": {
    "id": "KYZtoW-tlZgl"
   },
   "outputs": [
    {
     "name": "stderr",
     "output_type": "stream",
     "text": [
      "file wav2vec2-xls-r-300m-hy-ns/config.json not found\n",
      "Special tokens have been added in the vocabulary, make sure the associated word embeddings are fine-tuned or trained.\n"
     ]
    }
   ],
   "source": [
    "tokenizer = Wav2Vec2CTCTokenizer.from_pretrained(model_dir, unk_token=\"[UNK]\", pad_token=\"[PAD]\", word_delimiter_token=\"|\")\n",
    "feature_extractor = Wav2Vec2FeatureExtractor(feature_size=1, sampling_rate=16000, padding_value=0.0, do_normalize=True, return_attention_mask=True)\n",
    "processor = Wav2Vec2Processor(feature_extractor=feature_extractor, tokenizer=tokenizer)"
   ]
  },
  {
   "cell_type": "code",
   "execution_count": 17,
   "id": "463a688b",
   "metadata": {},
   "outputs": [],
   "source": [
    "def prepare_dataset(batch):\n",
    "    audio = batch[\"audio\"]\n",
    "\n",
    "    # batched output is \"un-batched\"\n",
    "    batch[\"input_values\"] = processor(audio[\"array\"], sampling_rate=audio[\"sampling_rate\"]).input_values[0]\n",
    "    batch[\"length\"] = len(batch[\"input_values\"])\n",
    "    \n",
    "    with processor.as_target_processor():\n",
    "        batch[\"labels\"] = processor(batch[\"sentence\"]).input_ids\n",
    "    return batch"
   ]
  },
  {
   "cell_type": "code",
   "execution_count": 18,
   "id": "74bfec7e",
   "metadata": {},
   "outputs": [
    {
     "data": {
      "application/vnd.jupyter.widget-view+json": {
       "model_id": "dd2da1d5e77c4362be994190c8fd1174",
       "version_major": 2,
       "version_minor": 0
      },
      "text/plain": [
       "0ex [00:00, ?ex/s]"
      ]
     },
     "metadata": {},
     "output_type": "display_data"
    },
    {
     "data": {
      "application/vnd.jupyter.widget-view+json": {
       "model_id": "449820fbd8c64f0b8004b39996f96090",
       "version_major": 2,
       "version_minor": 0
      },
      "text/plain": [
       "0ex [00:00, ?ex/s]"
      ]
     },
     "metadata": {},
     "output_type": "display_data"
    }
   ],
   "source": [
    "common_voice_train = common_voice_train.map(prepare_dataset, remove_columns=common_voice_test.column_names)\n",
    "common_voice_test = common_voice_test.map(prepare_dataset, remove_columns=common_voice_test.column_names)"
   ]
  },
  {
   "cell_type": "code",
   "execution_count": 19,
   "id": "e9941737",
   "metadata": {
    "colab": {
     "base_uri": "https://localhost:8080/",
     "height": 52,
     "referenced_widgets": [
      "b0dafb861d13480a978e85381a78e8c1",
      "4a08e16e497c4792b27add9569abe0b6",
      "f9ab019bf7384a8d8fd2aa1c973b750e",
      "820b7ae854b64ec1a58143ed2fa5fa77",
      "01094b6271b44956b218971f8f04f34b",
      "2338bb4ce0bb43a18b4f97b341740f2b",
      "c5a16d297395431cad6b5f585758db29",
      "29007dc7f3fe49c1993a8c3c3dfa276a",
      "f7240ac8903c4c97ada3fe9ac4642400",
      "797750bd85e141288c3009e6fe85dee0",
      "a7ce2376971c40de8e1f251512ea359f"
     ]
    },
    "id": "9Xsux2gmyXso",
    "outputId": "175cc2ed-4140-4979-e524-ba574a465eb5"
   },
   "outputs": [],
   "source": [
    "wer_metric = load_metric(\"wer\")\n",
    "cer_metric = load_metric(\"cer\")\n",
    "\n",
    "def compute_metrics(pred):\n",
    "    pred_logits = pred.predictions\n",
    "    pred_ids = np.argmax(pred_logits, axis=-1)\n",
    "\n",
    "    pred.label_ids[pred.label_ids == -100] = processor.tokenizer.pad_token_id\n",
    "\n",
    "    pred_str = processor.batch_decode(pred_ids)\n",
    "    # we do not want to group tokens when computing the metrics\n",
    "    label_str = processor.batch_decode(pred.label_ids, group_tokens=False)\n",
    "\n",
    "    wer = wer_metric.compute(predictions=pred_str, references=label_str)\n",
    "    cer = cer_metric.compute(predictions=pred_str, references=label_str)\n",
    "    return {\"wer\": wer, \"cer\":cer}"
   ]
  },
  {
   "cell_type": "code",
   "execution_count": 20,
   "id": "7457144f",
   "metadata": {},
   "outputs": [],
   "source": [
    "data_collator = DataCollatorCTCWithPadding(processor=processor, padding=True)"
   ]
  },
  {
   "cell_type": "code",
   "execution_count": 21,
   "id": "20e20e6e",
   "metadata": {
    "colab": {
     "base_uri": "https://localhost:8080/",
     "height": 202,
     "referenced_widgets": [
      "3d98529fc03b4a1c993ef8396da8b3f5",
      "cbe43b463a8948b9a6fd41f14379fb19",
      "5ae06bfca32144168e193b0e0c471bcd",
      "10d741759c794f8c937de0b8e3f800aa",
      "37450ec775fc411cb019818b5e6a1aa4",
      "b9173dc1e2e54bd997f38da4a5b70db6",
      "4d389243b3f64592acd8ff922ceb946e",
      "007e2af1ea764fbb98874a29fc2de662",
      "693409ef7b5743eeae85804f6bb25bff",
      "b8257dfc101148439890a067ac84bb08",
      "28c2571648c74303b0cee0d1856ecee2",
      "76baadab73da44e1bb5f192448249b90",
      "daece760a4e64a01b6880a6b87a456ba",
      "d85074703d7e40839886fb9460edd8f0",
      "c71978fc2c334323b0bd40af00b77b6d",
      "62ceca1310c548828afda3868b307ace",
      "07cffa560a48457da3f012ac3a141a1a",
      "2fcf861f03db4843a3a5814faf96d1c0",
      "71abd4329de8425f81f91319573e1be7",
      "d51533ffb9dc4cb2bc428a38f9118553",
      "b4a1277136174892bc35081a69e09565",
      "c95af9318d724050abda918fd3267abe"
     ]
    },
    "id": "e7cqAWIayn6w",
    "outputId": "e7d5a7c6-4e89-44f9-bae7-ef80e963538a"
   },
   "outputs": [
    {
     "name": "stderr",
     "output_type": "stream",
     "text": [
      "Some weights of the model checkpoint at facebook/wav2vec2-xls-r-300m were not used when initializing Wav2Vec2ForCTC: ['project_q.weight', 'quantizer.weight_proj.bias', 'project_q.bias', 'quantizer.codevectors', 'project_hid.weight', 'project_hid.bias', 'quantizer.weight_proj.weight']\n",
      "- This IS expected if you are initializing Wav2Vec2ForCTC from the checkpoint of a model trained on another task or with another architecture (e.g. initializing a BertForSequenceClassification model from a BertForPreTraining model).\n",
      "- This IS NOT expected if you are initializing Wav2Vec2ForCTC from the checkpoint of a model that you expect to be exactly identical (initializing a BertForSequenceClassification model from a BertForSequenceClassification model).\n",
      "Some weights of Wav2Vec2ForCTC were not initialized from the model checkpoint at facebook/wav2vec2-xls-r-300m and are newly initialized: ['lm_head.weight', 'lm_head.bias']\n",
      "You should probably TRAIN this model on a down-stream task to be able to use it for predictions and inference.\n"
     ]
    }
   ],
   "source": [
    "model = Wav2Vec2ForCTC.from_pretrained(\n",
    "    \"facebook/wav2vec2-xls-r-300m\", \n",
    "    attention_dropout=0.0,\n",
    "    hidden_dropout=0.1,\n",
    "    feat_proj_dropout=0.0,\n",
    "    mask_time_prob=0.75,\n",
    "    mask_feature_prob=0.25,\n",
    "    mask_feature_length=64,\n",
    "    layerdrop=0.05,\n",
    "    ctc_loss_reduction=\"mean\", \n",
    "    pad_token_id=processor.tokenizer.pad_token_id,\n",
    "    vocab_size=len(processor.tokenizer),\n",
    ")\n",
    "model.freeze_feature_encoder();"
   ]
  },
  {
   "cell_type": "code",
   "execution_count": 22,
   "id": "5d3cb341",
   "metadata": {
    "id": "b-eIQk3rC9uN"
   },
   "outputs": [],
   "source": [
    "from torch.optim.lr_scheduler import LambdaLR\n",
    "\n",
    "def get_tri_stage_schedule(\n",
    "    optimizer, num_training_steps, ratios=[0.1, 0.4, 0.5], num_warmup_steps=None, num_hold_steps=None, start_ratio=0.01, end_ratio=0.05 \n",
    "):\n",
    "    assert (num_warmup_steps is None) == (num_hold_steps is None)\n",
    "    if num_warmup_steps is None:\n",
    "        num_warmup_steps = int(ratios[0]*num_training_steps)\n",
    "        num_hold_steps = int(ratios[1]*num_training_steps)\n",
    "        start_decay_step = num_warmup_steps + num_hold_steps\n",
    "        a_w, b_w = (1-start_ratio)/num_warmup_steps, start_ratio\n",
    "        num_decay_steps = num_training_steps - start_decay_step\n",
    "        a_d, b_d = (end_ratio-1)/num_decay_steps, 1.\n",
    "        \n",
    "    def lr_lambda(current_step):\n",
    "        if current_step < num_warmup_steps:\n",
    "            return a_w * float(current_step) + b_w\n",
    "        if current_step < start_decay_step:\n",
    "            return 1.\n",
    "        return max(end_ratio, a_d * float(current_step - start_decay_step) + b_d )\n",
    "    \n",
    "    return LambdaLR(optimizer, lr_lambda)"
   ]
  },
  {
   "cell_type": "code",
   "execution_count": 23,
   "id": "72518955",
   "metadata": {
    "id": "OFRNe62dC9uN"
   },
   "outputs": [],
   "source": [
    "num_training_steps = 1600"
   ]
  },
  {
   "cell_type": "code",
   "execution_count": 24,
   "id": "072f0981",
   "metadata": {
    "id": "-ZvOsbLpC9uO"
   },
   "outputs": [],
   "source": [
    "optimizer = bnb.optim.AdamW8bit(model.parameters(), lr=8e-5, betas=(0.9, 0.98), eps=1e-8, weight_decay=0.)\n",
    "\n",
    "scheduler = get_tri_stage_schedule(optimizer, num_training_steps)"
   ]
  },
  {
   "cell_type": "code",
   "execution_count": 25,
   "id": "9fb568da",
   "metadata": {
    "id": "KbeKSV7uzGPP"
   },
   "outputs": [],
   "source": [
    "training_args = TrainingArguments(\n",
    "    output_dir=model_dir,\n",
    "    group_by_length=True,\n",
    "    per_device_train_batch_size=32,\n",
    "    per_device_eval_batch_size=32,\n",
    "    gradient_accumulation_steps=4,\n",
    "    dataloader_num_workers=8,\n",
    "    evaluation_strategy=\"steps\",\n",
    "    max_steps=num_training_steps,\n",
    "    gradient_checkpointing=True,\n",
    "    fp16=True,\n",
    "    save_steps=200,\n",
    "    eval_steps=200,\n",
    "    logging_steps=200,\n",
    "    learning_rate=8e-5,\n",
    "    save_total_limit=4,\n",
    "    push_to_hub=False,\n",
    "    run_name=\"xlsr-300m-hy-demo-1\",\n",
    "    report_to=\"wandb\",\n",
    "    load_best_model_at_end=True,\n",
    ")"
   ]
  },
  {
   "cell_type": "code",
   "execution_count": 26,
   "id": "f896073e",
   "metadata": {
    "colab": {
     "base_uri": "https://localhost:8080/"
    },
    "id": "rY7vBmFCPFgC",
    "outputId": "7ba982d8-ba6e-4315-b0d0-4d991681c7f1"
   },
   "outputs": [
    {
     "name": "stderr",
     "output_type": "stream",
     "text": [
      "max_steps is given, it will override any value given in num_train_epochs\n",
      "Using amp half precision backend\n"
     ]
    }
   ],
   "source": [
    "trainer = Trainer(\n",
    "    model=model,\n",
    "    data_collator=data_collator,\n",
    "    args=training_args,\n",
    "    compute_metrics=compute_metrics,\n",
    "    train_dataset=common_voice_train,\n",
    "    eval_dataset=common_voice_test,\n",
    "    tokenizer=processor.feature_extractor,\n",
    "    optimizers=(optimizer, scheduler)\n",
    ")"
   ]
  },
  {
   "cell_type": "markdown",
   "id": "8a1263ad",
   "metadata": {
    "id": "rpvZHM1xReIW"
   },
   "source": [
    "### Training"
   ]
  },
  {
   "cell_type": "code",
   "execution_count": 27,
   "id": "f03061bc",
   "metadata": {
    "colab": {
     "base_uri": "https://localhost:8080/",
     "height": 801
    },
    "id": "9fRr9TG5pGBl",
    "outputId": "e6a81df7-07c9-4ffe-d292-2e8e64000fe1"
   },
   "outputs": [
    {
     "name": "stderr",
     "output_type": "stream",
     "text": [
      "The following columns in the training set  don't have a corresponding argument in `Wav2Vec2ForCTC.forward` and have been ignored: length.\n",
      "***** Running training *****\n",
      "  Num examples = 728\n",
      "  Num Epochs = 320\n",
      "  Instantaneous batch size per device = 32\n",
      "  Total train batch size (w. parallel, distributed & accumulation) = 128\n",
      "  Gradient Accumulation steps = 4\n",
      "  Total optimization steps = 1600\n",
      "Automatic Weights & Biases logging enabled, to disable set os.environ[\"WANDB_DISABLED\"] = \"true\"\n",
      "\u001b[34m\u001b[1mwandb\u001b[0m: Currently logged in as: \u001b[33marampacha\u001b[0m (use `wandb login --relogin` to force relogin)\n",
      "\u001b[34m\u001b[1mwandb\u001b[0m: wandb version 0.12.10 is available!  To upgrade, please run:\n",
      "\u001b[34m\u001b[1mwandb\u001b[0m:  $ pip install wandb --upgrade\n"
     ]
    },
    {
     "data": {
      "text/html": [
       "\n",
       "                    Syncing run <strong><a href=\"https://wandb.ai/arampacha/xlsr-hy/runs/1w6ufuf9\" target=\"_blank\">xlsr-300m-hy-demo-1</a></strong> to <a href=\"https://wandb.ai/arampacha/xlsr-hy\" target=\"_blank\">Weights & Biases</a> (<a href=\"https://docs.wandb.com/integrations/jupyter.html\" target=\"_blank\">docs</a>).<br/>\n",
       "\n",
       "                "
      ],
      "text/plain": [
       "<IPython.core.display.HTML object>"
      ]
     },
     "metadata": {},
     "output_type": "display_data"
    },
    {
     "data": {
      "text/html": [
       "\n",
       "    <div>\n",
       "      \n",
       "      <progress value='1600' max='1600' style='width:300px; height:20px; vertical-align: middle;'></progress>\n",
       "      [1600/1600 2:25:42, Epoch 319/320]\n",
       "    </div>\n",
       "    <table border=\"1\" class=\"dataframe\">\n",
       "  <thead>\n",
       " <tr style=\"text-align: left;\">\n",
       "      <th>Step</th>\n",
       "      <th>Training Loss</th>\n",
       "      <th>Validation Loss</th>\n",
       "      <th>Wer</th>\n",
       "      <th>Cer</th>\n",
       "    </tr>\n",
       "  </thead>\n",
       "  <tbody>\n",
       "    <tr>\n",
       "      <td>200</td>\n",
       "      <td>7.868500</td>\n",
       "      <td>3.194159</td>\n",
       "      <td>1.000000</td>\n",
       "      <td>1.000000</td>\n",
       "    </tr>\n",
       "    <tr>\n",
       "      <td>400</td>\n",
       "      <td>3.544700</td>\n",
       "      <td>2.603772</td>\n",
       "      <td>1.000000</td>\n",
       "      <td>0.974001</td>\n",
       "    </tr>\n",
       "    <tr>\n",
       "      <td>600</td>\n",
       "      <td>2.442200</td>\n",
       "      <td>0.868212</td>\n",
       "      <td>0.820453</td>\n",
       "      <td>0.214062</td>\n",
       "    </tr>\n",
       "    <tr>\n",
       "      <td>800</td>\n",
       "      <td>1.605500</td>\n",
       "      <td>0.610635</td>\n",
       "      <td>0.697112</td>\n",
       "      <td>0.158928</td>\n",
       "    </tr>\n",
       "    <tr>\n",
       "      <td>1000</td>\n",
       "      <td>1.327300</td>\n",
       "      <td>0.550194</td>\n",
       "      <td>0.654957</td>\n",
       "      <td>0.143247</td>\n",
       "    </tr>\n",
       "    <tr>\n",
       "      <td>1200</td>\n",
       "      <td>1.204300</td>\n",
       "      <td>0.556630</td>\n",
       "      <td>0.623341</td>\n",
       "      <td>0.135508</td>\n",
       "    </tr>\n",
       "    <tr>\n",
       "      <td>1400</td>\n",
       "      <td>1.109700</td>\n",
       "      <td>0.552339</td>\n",
       "      <td>0.606557</td>\n",
       "      <td>0.133434</td>\n",
       "    </tr>\n",
       "    <tr>\n",
       "      <td>1600</td>\n",
       "      <td>1.067400</td>\n",
       "      <td>0.545073</td>\n",
       "      <td>0.597580</td>\n",
       "      <td>0.130653</td>\n",
       "    </tr>\n",
       "  </tbody>\n",
       "</table><p>"
      ],
      "text/plain": [
       "<IPython.core.display.HTML object>"
      ]
     },
     "metadata": {},
     "output_type": "display_data"
    },
    {
     "name": "stderr",
     "output_type": "stream",
     "text": [
      "The following columns in the evaluation set  don't have a corresponding argument in `Wav2Vec2ForCTC.forward` and have been ignored: length.\n",
      "***** Running Evaluation *****\n",
      "  Num examples = 335\n",
      "  Batch size = 32\n",
      "Saving model checkpoint to wav2vec2-xls-r-300m-hy-ns/checkpoint-200\n",
      "Configuration saved in wav2vec2-xls-r-300m-hy-ns/checkpoint-200/config.json\n",
      "Model weights saved in wav2vec2-xls-r-300m-hy-ns/checkpoint-200/pytorch_model.bin\n",
      "Configuration saved in wav2vec2-xls-r-300m-hy-ns/checkpoint-200/preprocessor_config.json\n",
      "The following columns in the evaluation set  don't have a corresponding argument in `Wav2Vec2ForCTC.forward` and have been ignored: length.\n",
      "***** Running Evaluation *****\n",
      "  Num examples = 335\n",
      "  Batch size = 32\n",
      "Saving model checkpoint to wav2vec2-xls-r-300m-hy-ns/checkpoint-400\n",
      "Configuration saved in wav2vec2-xls-r-300m-hy-ns/checkpoint-400/config.json\n",
      "Model weights saved in wav2vec2-xls-r-300m-hy-ns/checkpoint-400/pytorch_model.bin\n",
      "Configuration saved in wav2vec2-xls-r-300m-hy-ns/checkpoint-400/preprocessor_config.json\n",
      "The following columns in the evaluation set  don't have a corresponding argument in `Wav2Vec2ForCTC.forward` and have been ignored: length.\n",
      "***** Running Evaluation *****\n",
      "  Num examples = 335\n",
      "  Batch size = 32\n",
      "Saving model checkpoint to wav2vec2-xls-r-300m-hy-ns/checkpoint-600\n",
      "Configuration saved in wav2vec2-xls-r-300m-hy-ns/checkpoint-600/config.json\n",
      "Model weights saved in wav2vec2-xls-r-300m-hy-ns/checkpoint-600/pytorch_model.bin\n",
      "Configuration saved in wav2vec2-xls-r-300m-hy-ns/checkpoint-600/preprocessor_config.json\n",
      "The following columns in the evaluation set  don't have a corresponding argument in `Wav2Vec2ForCTC.forward` and have been ignored: length.\n",
      "***** Running Evaluation *****\n",
      "  Num examples = 335\n",
      "  Batch size = 32\n",
      "Saving model checkpoint to wav2vec2-xls-r-300m-hy-ns/checkpoint-800\n",
      "Configuration saved in wav2vec2-xls-r-300m-hy-ns/checkpoint-800/config.json\n",
      "Model weights saved in wav2vec2-xls-r-300m-hy-ns/checkpoint-800/pytorch_model.bin\n",
      "Configuration saved in wav2vec2-xls-r-300m-hy-ns/checkpoint-800/preprocessor_config.json\n",
      "The following columns in the evaluation set  don't have a corresponding argument in `Wav2Vec2ForCTC.forward` and have been ignored: length.\n",
      "***** Running Evaluation *****\n",
      "  Num examples = 335\n",
      "  Batch size = 32\n",
      "Saving model checkpoint to wav2vec2-xls-r-300m-hy-ns/checkpoint-1000\n",
      "Configuration saved in wav2vec2-xls-r-300m-hy-ns/checkpoint-1000/config.json\n",
      "Model weights saved in wav2vec2-xls-r-300m-hy-ns/checkpoint-1000/pytorch_model.bin\n",
      "Configuration saved in wav2vec2-xls-r-300m-hy-ns/checkpoint-1000/preprocessor_config.json\n",
      "Deleting older checkpoint [wav2vec2-xls-r-300m-hy-ns/checkpoint-200] due to args.save_total_limit\n",
      "The following columns in the evaluation set  don't have a corresponding argument in `Wav2Vec2ForCTC.forward` and have been ignored: length.\n",
      "***** Running Evaluation *****\n",
      "  Num examples = 335\n",
      "  Batch size = 32\n",
      "Saving model checkpoint to wav2vec2-xls-r-300m-hy-ns/checkpoint-1200\n",
      "Configuration saved in wav2vec2-xls-r-300m-hy-ns/checkpoint-1200/config.json\n",
      "Model weights saved in wav2vec2-xls-r-300m-hy-ns/checkpoint-1200/pytorch_model.bin\n",
      "Configuration saved in wav2vec2-xls-r-300m-hy-ns/checkpoint-1200/preprocessor_config.json\n",
      "Deleting older checkpoint [wav2vec2-xls-r-300m-hy-ns/checkpoint-400] due to args.save_total_limit\n",
      "The following columns in the evaluation set  don't have a corresponding argument in `Wav2Vec2ForCTC.forward` and have been ignored: length.\n",
      "***** Running Evaluation *****\n",
      "  Num examples = 335\n",
      "  Batch size = 32\n",
      "Saving model checkpoint to wav2vec2-xls-r-300m-hy-ns/checkpoint-1400\n",
      "Configuration saved in wav2vec2-xls-r-300m-hy-ns/checkpoint-1400/config.json\n",
      "Model weights saved in wav2vec2-xls-r-300m-hy-ns/checkpoint-1400/pytorch_model.bin\n",
      "Configuration saved in wav2vec2-xls-r-300m-hy-ns/checkpoint-1400/preprocessor_config.json\n",
      "Deleting older checkpoint [wav2vec2-xls-r-300m-hy-ns/checkpoint-600] due to args.save_total_limit\n",
      "The following columns in the evaluation set  don't have a corresponding argument in `Wav2Vec2ForCTC.forward` and have been ignored: length.\n",
      "***** Running Evaluation *****\n",
      "  Num examples = 335\n",
      "  Batch size = 32\n",
      "Saving model checkpoint to wav2vec2-xls-r-300m-hy-ns/checkpoint-1600\n",
      "Configuration saved in wav2vec2-xls-r-300m-hy-ns/checkpoint-1600/config.json\n",
      "Model weights saved in wav2vec2-xls-r-300m-hy-ns/checkpoint-1600/pytorch_model.bin\n",
      "Configuration saved in wav2vec2-xls-r-300m-hy-ns/checkpoint-1600/preprocessor_config.json\n",
      "Deleting older checkpoint [wav2vec2-xls-r-300m-hy-ns/checkpoint-800] due to args.save_total_limit\n",
      "\n",
      "\n",
      "Training completed. Do not forget to share your model on huggingface.co/models =)\n",
      "\n",
      "\n",
      "Loading best model from wav2vec2-xls-r-300m-hy-ns/checkpoint-1600 (score: 0.545072615146637).\n"
     ]
    },
    {
     "data": {
      "text/plain": [
       "TrainOutput(global_step=1600, training_loss=2.521186532974243, metrics={'train_runtime': 8754.7736, 'train_samples_per_second': 23.393, 'train_steps_per_second': 0.183, 'total_flos': 5.069586580567806e+19, 'train_loss': 2.521186532974243, 'epoch': 319.87})"
      ]
     },
     "execution_count": 27,
     "metadata": {},
     "output_type": "execute_result"
    }
   ],
   "source": [
    "trainer.train()"
   ]
  },
  {
   "cell_type": "code",
   "execution_count": 28,
   "id": "19710049",
   "metadata": {},
   "outputs": [
    {
     "name": "stderr",
     "output_type": "stream",
     "text": [
      "Saving model checkpoint to wav2vec2-xls-r-300m-hy-ns\n",
      "Configuration saved in wav2vec2-xls-r-300m-hy-ns/config.json\n",
      "Model weights saved in wav2vec2-xls-r-300m-hy-ns/pytorch_model.bin\n",
      "Configuration saved in wav2vec2-xls-r-300m-hy-ns/preprocessor_config.json\n"
     ]
    }
   ],
   "source": [
    "trainer.save_model()"
   ]
  },
  {
   "cell_type": "code",
   "execution_count": 34,
   "id": "40a7104c",
   "metadata": {},
   "outputs": [
    {
     "data": {
      "text/html": [
       "<br/>Waiting for W&B process to finish, PID 2906031... <strong style=\"color:green\">(success).</strong>"
      ],
      "text/plain": [
       "<IPython.core.display.HTML object>"
      ]
     },
     "metadata": {},
     "output_type": "display_data"
    },
    {
     "data": {
      "application/vnd.jupyter.widget-view+json": {
       "model_id": "",
       "version_major": 2,
       "version_minor": 0
      },
      "text/plain": [
       "VBox(children=(Label(value=' 0.00MB of 0.00MB uploaded (0.00MB deduped)\\r'), FloatProgress(value=1.0, max=1.0)…"
      ]
     },
     "metadata": {},
     "output_type": "display_data"
    },
    {
     "data": {
      "text/html": [
       "<style>\n",
       "    table.wandb td:nth-child(1) { padding: 0 10px; text-align: right }\n",
       "    .wandb-row { display: flex; flex-direction: row; flex-wrap: wrap; width: 100% }\n",
       "    .wandb-col { display: flex; flex-direction: column; flex-basis: 100%; flex: 1; padding: 10px; }\n",
       "    </style>\n",
       "<div class=\"wandb-row\"><div class=\"wandb-col\">\n",
       "<h3>Run history:</h3><br/><table class=\"wandb\"><tr><td>eval/cer</td><td>██▂▁▁▁▁▁</td></tr><tr><td>eval/loss</td><td>█▆▂▁▁▁▁▁</td></tr><tr><td>eval/runtime</td><td>▄▂▄▇▃▇█▁</td></tr><tr><td>eval/samples_per_second</td><td>▅▇▅▂▆▂▁█</td></tr><tr><td>eval/steps_per_second</td><td>▅▇▅▂▆▂▁█</td></tr><tr><td>eval/wer</td><td>██▅▃▂▁▁▁</td></tr><tr><td>train/epoch</td><td>▁▁▂▂▃▃▄▄▅▅▆▆▇▇███</td></tr><tr><td>train/global_step</td><td>▁▁▂▂▃▃▄▄▅▅▆▆▇▇███</td></tr><tr><td>train/learning_rate</td><td>████▆▅▃▁</td></tr><tr><td>train/loss</td><td>█▄▂▂▁▁▁▁</td></tr><tr><td>train/total_flos</td><td>▁</td></tr><tr><td>train/train_loss</td><td>▁</td></tr><tr><td>train/train_runtime</td><td>▁</td></tr><tr><td>train/train_samples_per_second</td><td>▁</td></tr><tr><td>train/train_steps_per_second</td><td>▁</td></tr></table><br/></div><div class=\"wandb-col\">\n",
       "<h3>Run summary:</h3><br/><table class=\"wandb\"><tr><td>eval/cer</td><td>0.13065</td></tr><tr><td>eval/loss</td><td>0.54507</td></tr><tr><td>eval/runtime</td><td>8.346</td></tr><tr><td>eval/samples_per_second</td><td>40.139</td></tr><tr><td>eval/steps_per_second</td><td>1.318</td></tr><tr><td>eval/wer</td><td>0.59758</td></tr><tr><td>train/epoch</td><td>319.87</td></tr><tr><td>train/global_step</td><td>1600</td></tr><tr><td>train/learning_rate</td><td>0.0</td></tr><tr><td>train/loss</td><td>1.0674</td></tr><tr><td>train/total_flos</td><td>5.069586580567806e+19</td></tr><tr><td>train/train_loss</td><td>2.52119</td></tr><tr><td>train/train_runtime</td><td>8754.7736</td></tr><tr><td>train/train_samples_per_second</td><td>23.393</td></tr><tr><td>train/train_steps_per_second</td><td>0.183</td></tr></table>\n",
       "</div></div>\n",
       "Synced 5 W&B file(s), 0 media file(s), 0 artifact file(s) and 0 other file(s)\n",
       "<br/>Synced <strong style=\"color:#cdcd00\">xlsr-300m-hy-demo-1</strong>: <a href=\"https://wandb.ai/arampacha/xlsr-hy/runs/1w6ufuf9\" target=\"_blank\">https://wandb.ai/arampacha/xlsr-hy/runs/1w6ufuf9</a><br/>\n",
       "Find logs at: <code>./wandb/run-20220207_212452-1w6ufuf9/logs</code><br/>\n"
      ],
      "text/plain": [
       "<IPython.core.display.HTML object>"
      ]
     },
     "metadata": {},
     "output_type": "display_data"
    }
   ],
   "source": [
    "wandb.finish()"
   ]
  },
  {
   "cell_type": "code",
   "execution_count": 29,
   "id": "68f67dca",
   "metadata": {},
   "outputs": [
    {
     "name": "stderr",
     "output_type": "stream",
     "text": [
      "The following columns in the test set  don't have a corresponding argument in `Wav2Vec2ForCTC.forward` and have been ignored: length.\n",
      "***** Running Prediction *****\n",
      "  Num examples = 335\n",
      "  Batch size = 32\n"
     ]
    },
    {
     "data": {
      "text/html": [
       "\n",
       "    <div>\n",
       "      \n",
       "      <progress value='658' max='11' style='width:300px; height:20px; vertical-align: middle;'></progress>\n",
       "      [11/11 1:35:23]\n",
       "    </div>\n",
       "    "
      ],
      "text/plain": [
       "<IPython.core.display.HTML object>"
      ]
     },
     "metadata": {},
     "output_type": "display_data"
    }
   ],
   "source": [
    "preds = trainer.predict(common_voice_test)\n",
    "logits = preds.predictions"
   ]
  },
  {
   "cell_type": "code",
   "execution_count": 30,
   "id": "775d56ca",
   "metadata": {},
   "outputs": [
    {
     "name": "stderr",
     "output_type": "stream",
     "text": [
      "loading feature extractor configuration file /workspace/output/hy/models/wav2vec2-xls-r-1b-hy/preprocessor_config.json\n",
      "Feature extractor Wav2Vec2FeatureExtractor {\n",
      "  \"do_normalize\": true,\n",
      "  \"feature_extractor_type\": \"Wav2Vec2FeatureExtractor\",\n",
      "  \"feature_size\": 1,\n",
      "  \"padding_side\": \"right\",\n",
      "  \"padding_value\": 0,\n",
      "  \"processor_class\": \"Wav2Vec2ProcessorWithLM\",\n",
      "  \"return_attention_mask\": true,\n",
      "  \"sampling_rate\": 16000\n",
      "}\n",
      "\n",
      "Didn't find file /workspace/output/hy/models/wav2vec2-xls-r-1b-hy/tokenizer.json. We won't load it.\n",
      "loading file /workspace/output/hy/models/wav2vec2-xls-r-1b-hy/vocab.json\n",
      "loading file /workspace/output/hy/models/wav2vec2-xls-r-1b-hy/tokenizer_config.json\n",
      "loading file /workspace/output/hy/models/wav2vec2-xls-r-1b-hy/added_tokens.json\n",
      "loading file /workspace/output/hy/models/wav2vec2-xls-r-1b-hy/special_tokens_map.json\n",
      "loading file None\n",
      "Adding <s> to the vocabulary\n",
      "Adding </s> to the vocabulary\n"
     ]
    }
   ],
   "source": [
    "processor_lm = Wav2Vec2ProcessorWithLM.from_pretrained(\"/workspace/output/hy/models/wav2vec2-xls-r-1b-hy/\")"
   ]
  },
  {
   "cell_type": "code",
   "execution_count": 31,
   "id": "0535c8b6",
   "metadata": {},
   "outputs": [
    {
     "data": {
      "text/plain": [
       "(335, 492, 44)"
      ]
     },
     "execution_count": 31,
     "metadata": {},
     "output_type": "execute_result"
    }
   ],
   "source": [
    "logits.shape"
   ]
  },
  {
   "cell_type": "code",
   "execution_count": 33,
   "id": "609e7377",
   "metadata": {},
   "outputs": [
    {
     "name": "stdout",
     "output_type": "stream",
     "text": [
      "alpha\t| beta\t| wer\t\t| cer\n",
      "0.5\t| 1.5\t| 0.2920\t| 0.0711\n",
      "0.5\t| 2.0\t| 0.2923\t| 0.0712\n",
      "0.5\t| 2.5\t| 0.2939\t| 0.0716\n",
      "0.5\t| 3.0\t| 0.2966\t| 0.0715\n",
      "0.6\t| 1.5\t| 0.2873\t| 0.0720\n",
      "0.6\t| 2.0\t| 0.2884\t| 0.0712\n",
      "0.6\t| 2.5\t| 0.2881\t| 0.0706\n",
      "0.6\t| 3.0\t| 0.2916\t| 0.0708\n",
      "0.7\t| 1.5\t| 0.2877\t| 0.0732\n",
      "0.7\t| 2.0\t| 0.2842\t| 0.0723\n",
      "0.7\t| 2.5\t| 0.2845\t| 0.0719\n",
      "0.7\t| 3.0\t| 0.2842\t| 0.0714\n",
      "\n",
      "Best LM parameters:  {'alpha': 0.7, 'beta': 2.0}\n"
     ]
    }
   ],
   "source": [
    "lm_params = {\"alpha\":0.5, \"beta\":1.5}\n",
    "best_wer = 1.\n",
    "\n",
    "print(f\"alpha\\t| beta\\t| wer\\t\\t| cer\")\n",
    "for alpha in [0.5, 0.6, 0.7]:\n",
    "    for beta in [1.5, 2., 2.5, 3.,]:\n",
    "        processor_lm.decoder.reset_params(alpha=alpha, beta=beta)\n",
    "        decoded_preds = processor_lm.batch_decode(logits, beam_width=100, num_processes=8)\n",
    "        wer = wer_metric.compute(predictions=decoded_preds.text, references=test_transcripts)\n",
    "        cer = cer_metric.compute(predictions=decoded_preds.text, references=test_transcripts)\n",
    "        if wer < best_wer:\n",
    "            lm_params[\"alpha\"] = alpha\n",
    "            lm_params[\"beta\"] = beta\n",
    "            best_wer = wer\n",
    "        print(f\"{alpha}\\t| {beta}\\t| {wer:.4f}\\t| {cer:.4f}\")\n",
    "        \n",
    "print(\"\\nBest LM parameters: \", lm_params)"
   ]
  },
  {
   "cell_type": "code",
   "execution_count": 35,
   "id": "dafef50f",
   "metadata": {},
   "outputs": [],
   "source": [
    "processor_lm.decoder.reset_params(**lm_params)\n",
    "decoded_preds = processor_lm.batch_decode(logits, beam_width=100, num_processes=8)"
   ]
  },
  {
   "cell_type": "code",
   "execution_count": 36,
   "id": "ff504d0f",
   "metadata": {},
   "outputs": [
    {
     "name": "stdout",
     "output_type": "stream",
     "text": [
      "-15.00629891494811 -36.10539751911238\n",
      "վերջին անգամ բազմաթիվ ձեռագրեր ոչնչացան առաջին համաշխարհային պատերազմի տարիներին\n",
      "վերջին անգամ բազմաթիվ ձեռագրեր ոչնչացան առաջին համաշխարհային պատերազմի տարիներին \n",
      "-18.88247006201864 -21.816377967257626\n",
      "մտքի ճկունությունը ստեղծագործական ընդունակությունների առկայության դրսևորումներից մեկն է\n",
      "մտքի ճկունությունը ստեղծագործական ընդունակությունների առկայության դրսևորումներից մեկն է \n",
      "-20.694962102139808 -71.93717848657455\n",
      "գելը իր ստեղծած կերպարի նանվանում է չարաճճի օպերային դենդի\n",
      "քուեյլը իր ստեղծած կերպարին անվանում է չարաճճի օպերային դենդի \n",
      "-21.81080996648263 -34.990664297362855\n",
      "քննարկենք ինչու է ճիշտ վերջին հատկությունը\n",
      "քննարկենք թե ինչու է ճիշտ վերջին հատկությունը \n",
      "-15.957373845367895 -72.43214053572748\n",
      "ժողովրդական դպրոց նավարդելուցհետու աշխատել է բրանդենբուրգյան հացի խանութում\n",
      "ժողովրդական դպրոցն ավարտելուց հետո աշխատել է բրանդերբուրգյան հացի խանութում \n"
     ]
    }
   ],
   "source": [
    "import random\n",
    "\n",
    "ids = random.sample(range(len(common_voice_test)), k=5)\n",
    "for i in ids:\n",
    "    print(decoded_preds.logit_score[i], decoded_preds.lm_score[i])\n",
    "    print(decoded_preds.text[i])\n",
    "    print(test_transcripts[i])"
   ]
  },
  {
   "cell_type": "markdown",
   "id": "1ddd8df0",
   "metadata": {},
   "source": [
    "`pyctcdecode` does beam search for decoding. Candidate sequences are selected by the negative log likelihood. Total score is composed of NLL assigned to token sequence by the model and NLL score from language model.\n",
    "Negative log likelihood of sequence is a sum of NLLs of individual elements. Therefore the score returned by decoder is not suited well for filtering the generated labels: longer sequences are expected to have lower score. To adjust the scores for filtering I'm adopting an approach from [Improved Noisy Student Training for Automatic Speech Recognition](https://arxiv.org/abs/2005.09629).\n",
    "$$ (s_{LM} - \\alpha*l - \\beta)/ (\\sigma \\sqrt l) $$"
   ]
  },
  {
   "cell_type": "code",
   "execution_count": 37,
   "id": "f97b3700",
   "metadata": {},
   "outputs": [],
   "source": [
    "text_length = np.array([len(s) for s in decoded_preds.text])\n",
    "lm_scores = np.array(decoded_preds.lm_score)"
   ]
  },
  {
   "cell_type": "code",
   "execution_count": 38,
   "id": "e3c5bb11",
   "metadata": {},
   "outputs": [
    {
     "data": {
      "text/plain": [
       "0.28415300546448086"
      ]
     },
     "execution_count": 38,
     "metadata": {},
     "output_type": "execute_result"
    }
   ],
   "source": [
    "wer_metric.compute(predictions=decoded_preds.text, references=test_transcripts)"
   ]
  },
  {
   "cell_type": "code",
   "execution_count": 39,
   "id": "b1a1d0b1",
   "metadata": {},
   "outputs": [
    {
     "data": {
      "text/plain": [
       "0.07228123419322205"
      ]
     },
     "execution_count": 39,
     "metadata": {},
     "output_type": "execute_result"
    }
   ],
   "source": [
    "cer_metric.compute(predictions=decoded_preds.text, references=test_transcripts)"
   ]
  },
  {
   "cell_type": "code",
   "execution_count": 40,
   "id": "3d30505a",
   "metadata": {},
   "outputs": [
    {
     "data": {
      "text/plain": [
       "0.28854536839611467"
      ]
     },
     "execution_count": 40,
     "metadata": {},
     "output_type": "execute_result"
    }
   ],
   "source": [
    "example_wer = np.array([wer_metric.compute(predictions=[pred], references=[ref]) for pred, ref in zip(decoded_preds.text, test_transcripts)])\n",
    "example_wer.mean()"
   ]
  },
  {
   "cell_type": "markdown",
   "id": "ce6b2fc5",
   "metadata": {},
   "source": [
    "It's easy to fit a line to the data. For instance one can `scikit-learn` library for this purpose."
   ]
  },
  {
   "cell_type": "code",
   "execution_count": 41,
   "id": "37742e5b",
   "metadata": {},
   "outputs": [
    {
     "name": "stdout",
     "output_type": "stream",
     "text": [
      "-0.6229814, -18.6591776\n"
     ]
    }
   ],
   "source": [
    "from sklearn.linear_model import LinearRegression\n",
    "\n",
    "reg = LinearRegression()\n",
    "reg.fit(np.expand_dims(np.array(text_length), axis=1), np.array(decoded_preds.lm_score))\n",
    "\n",
    "a = reg.coef_[0]\n",
    "b = reg.intercept_\n",
    "print(f\"{a:.7f}, {b:.7f}\")"
   ]
  },
  {
   "cell_type": "code",
   "execution_count": 42,
   "id": "070bdda0",
   "metadata": {},
   "outputs": [
    {
     "data": {
      "image/png": "[encoded data removed]",
      "text/plain": [
       "<Figure size 432x288 with 1 Axes>"
      ]
     },
     "metadata": {
      "needs_background": "light"
     },
     "output_type": "display_data"
    }
   ],
   "source": [
    "fig, ax = plt.subplots()\n",
    "ax.scatter(text_length, decoded_preds.lm_score)\n",
    "x = np.array([20, 100])\n",
    "ax.plot(x, a*x+b, \"r\")\n",
    "plt.show()"
   ]
  },
  {
   "cell_type": "code",
   "execution_count": 43,
   "id": "63f3c89f",
   "metadata": {},
   "outputs": [
    {
     "name": "stdout",
     "output_type": "stream",
     "text": [
      "3.8947836733862813\n"
     ]
    }
   ],
   "source": [
    "scores = (lm_scores - a*text_length - b)/ np.sqrt(text_length)\n",
    "std = scores.std()\n",
    "print(std)"
   ]
  },
  {
   "cell_type": "code",
   "execution_count": 44,
   "id": "21a0cd05",
   "metadata": {},
   "outputs": [],
   "source": [
    "scores  = scores/ scores.std()"
   ]
  },
  {
   "cell_type": "markdown",
   "id": "39f826c5",
   "metadata": {},
   "source": [
    "Finally we can check how the filtering reflects on the label quality."
   ]
  },
  {
   "cell_type": "code",
   "execution_count": 45,
   "id": "5cfdc2c1",
   "metadata": {},
   "outputs": [
    {
     "name": "stdout",
     "output_type": "stream",
     "text": [
      "Selected 114/335 examples after filtering with average WER 0.06044\n"
     ]
    }
   ],
   "source": [
    "mask = scores > .5\n",
    "\n",
    "print(f\"Selected {mask.sum()}/{len(mask)} examples after filtering with average WER {example_wer[mask].mean():.5f}\")"
   ]
  },
  {
   "cell_type": "markdown",
   "id": "c7f5d1d7",
   "metadata": {},
   "source": [
    "## Pseudo-labeling"
   ]
  },
  {
   "cell_type": "markdown",
   "id": "dc10a9ff",
   "metadata": {},
   "source": [
    "For dataset generation I'm using [VoxLingua107](http://bark.phon.ioc.ee/voxlingua107/) dataset. "
   ]
  },
  {
   "cell_type": "code",
   "execution_count": 46,
   "id": "a29193e0",
   "metadata": {},
   "outputs": [
    {
     "name": "stderr",
     "output_type": "stream",
     "text": [
      "Reusing dataset vox_lingua107 (/workspace/cache/hf/datasets/vox_lingua107/hy/0.0.0/92f9b48de9b7250925c8d895423b1e5e809f341da44e36e62b481c87fe6a1ca4)\n"
     ]
    },
    {
     "data": {
      "text/plain": [
       "24868"
      ]
     },
     "execution_count": 46,
     "metadata": {},
     "output_type": "execute_result"
    }
   ],
   "source": [
    "unsup_dataset = load_dataset(\"/workspace/data/scripts/voxlingua107.py\", lang_id.split(\"-\")[0], split=\"train\")\n",
    "len(unsup_dataset)"
   ]
  },
  {
   "cell_type": "code",
   "execution_count": 47,
   "id": "500d113b",
   "metadata": {},
   "outputs": [],
   "source": [
    "from datasets import load_dataset, Dataset, Audio, load_from_disk"
   ]
  },
  {
   "cell_type": "code",
   "execution_count": 48,
   "id": "553506a7",
   "metadata": {},
   "outputs": [],
   "source": [
    "sampling_rate = 16_000\n",
    "unsup_dataset = unsup_dataset.cast_column(\"audio\", Audio(sampling_rate))"
   ]
  },
  {
   "cell_type": "code",
   "execution_count": 49,
   "id": "ce6db458",
   "metadata": {},
   "outputs": [
    {
     "data": {
      "text/plain": [
       "{'path': '/workspace/cache/hf/datasets/downloads/extracted/e2c69883717bc530ea985b078278eca672e297147dc25dbe8b1c2e751186f304/hy/PtZMJZrea3w__U__S1---0292.510-0301.900.wav',\n",
       " 'audio': {'path': '/workspace/cache/hf/datasets/downloads/extracted/e2c69883717bc530ea985b078278eca672e297147dc25dbe8b1c2e751186f304/hy/PtZMJZrea3w__U__S1---0292.510-0301.900.wav',\n",
       "  'array': array([-0.00149536, -0.00271606, -0.00183105, ..., -0.00839233,\n",
       "         -0.0062561 , -0.00439453]),\n",
       "  'sampling_rate': 16000}}"
      ]
     },
     "execution_count": 49,
     "metadata": {},
     "output_type": "execute_result"
    }
   ],
   "source": [
    "unsup_dataset[0]"
   ]
  },
  {
   "cell_type": "code",
   "execution_count": 50,
   "id": "2cfa435a",
   "metadata": {},
   "outputs": [
    {
     "name": "stderr",
     "output_type": "stream",
     "text": [
      "Loading cached processed dataset at /workspace/cache/hf/datasets/vox_lingua107/hy/0.0.0/92f9b48de9b7250925c8d895423b1e5e809f341da44e36e62b481c87fe6a1ca4/cache-7e876b6e58276cea.arrow\n"
     ]
    }
   ],
   "source": [
    "unsup_dataset = unsup_dataset.map(lambda s: {\"duration\": len(s[\"audio\"][\"array\"]) / sampling_rate})"
   ]
  },
  {
   "cell_type": "code",
   "execution_count": 51,
   "id": "81d0a764",
   "metadata": {},
   "outputs": [
    {
     "data": {
      "text/plain": [
       "(9.97123931106241, 4.763985759128929, 1.89, 20.0)"
      ]
     },
     "execution_count": 51,
     "metadata": {},
     "output_type": "execute_result"
    }
   ],
   "source": [
    "durs = np.array(unsup_dataset[\"duration\"])\n",
    "\n",
    "durs.mean(), durs.std(), durs.min(), durs.max()"
   ]
  },
  {
   "cell_type": "code",
   "execution_count": 52,
   "id": "7de34b92",
   "metadata": {},
   "outputs": [
    {
     "name": "stderr",
     "output_type": "stream",
     "text": [
      "Loading cached processed dataset at /workspace/cache/hf/datasets/vox_lingua107/hy/0.0.0/92f9b48de9b7250925c8d895423b1e5e809f341da44e36e62b481c87fe6a1ca4/cache-96f89da5fecedc13.arrow\n"
     ]
    },
    {
     "data": {
      "text/plain": [
       "20694"
      ]
     },
     "execution_count": 52,
     "metadata": {},
     "output_type": "execute_result"
    }
   ],
   "source": [
    "filtered_dataset = unsup_dataset.filter(lambda x: (3. < x < 16.), input_columns=\"duration\")\n",
    "len(filtered_dataset)"
   ]
  },
  {
   "cell_type": "code",
   "execution_count": 53,
   "id": "5886cd5e",
   "metadata": {},
   "outputs": [
    {
     "name": "stderr",
     "output_type": "stream",
     "text": [
      "Loading cached sorted indices for dataset at /workspace/cache/hf/datasets/vox_lingua107/hy/0.0.0/92f9b48de9b7250925c8d895423b1e5e809f341da44e36e62b481c87fe6a1ca4/cache-b68a45dfe0d0dc6e.arrow\n"
     ]
    }
   ],
   "source": [
    "filtered_dataset = filtered_dataset.sort(\"duration\")"
   ]
  },
  {
   "cell_type": "code",
   "execution_count": 54,
   "id": "4b81f13c",
   "metadata": {},
   "outputs": [
    {
     "data": {
      "text/plain": [
       "(8.68453510377404, 3.5985018135481797, 3.01, 15.99)"
      ]
     },
     "execution_count": 54,
     "metadata": {},
     "output_type": "execute_result"
    }
   ],
   "source": [
    "durs = np.array(filtered_dataset[\"duration\"])\n",
    "\n",
    "durs.mean(), durs.std(), durs.min(), durs.max()"
   ]
  },
  {
   "cell_type": "code",
   "execution_count": 55,
   "id": "6ffbaf90",
   "metadata": {},
   "outputs": [],
   "source": [
    "def preprocess(batch):\n",
    "    audio = batch[\"audio\"]\n",
    "    \n",
    "    batch[\"input_values\"] = processor(audio[\"array\"], sampling_rate=audio[\"sampling_rate\"]).input_values[0]\n",
    "    # batch[\"length\"] = len(batch[\"input_values\"])\n",
    "    return batch"
   ]
  },
  {
   "cell_type": "code",
   "execution_count": 56,
   "id": "37c10ee2",
   "metadata": {},
   "outputs": [],
   "source": [
    "processed_dataset = filtered_dataset.map(preprocess, remove_columns=filtered_dataset.column_names, num_proc=5)"
   ]
  },
  {
   "cell_type": "markdown",
   "id": "c002584b",
   "metadata": {},
   "source": [
    "## VoxLingua inference"
   ]
  },
  {
   "cell_type": "code",
   "execution_count": 57,
   "id": "f6a874b1",
   "metadata": {},
   "outputs": [],
   "source": [
    "# vl_logits = predict(model, processed_dataset, device=\"cuda\", bs=32).numpy()"
   ]
  },
  {
   "cell_type": "code",
   "execution_count": 58,
   "id": "ed558247",
   "metadata": {},
   "outputs": [
    {
     "name": "stderr",
     "output_type": "stream",
     "text": [
      "***** Running Prediction *****\n",
      "  Num examples = 20694\n",
      "  Batch size = 32\n"
     ]
    },
    {
     "data": {
      "text/plain": [
       "(20694, 799, 44)"
      ]
     },
     "execution_count": 58,
     "metadata": {},
     "output_type": "execute_result"
    }
   ],
   "source": [
    "vl_logits = trainer.predict(processed_dataset).predictions\n",
    "vl_logits.shape"
   ]
  },
  {
   "cell_type": "code",
   "execution_count": 59,
   "id": "aee8d5e3",
   "metadata": {},
   "outputs": [],
   "source": [
    "np.save(\"voxlingua_hy_logits_1.npy\", vl_logits)"
   ]
  },
  {
   "cell_type": "code",
   "execution_count": 60,
   "id": "cef614c7",
   "metadata": {},
   "outputs": [],
   "source": [
    "vl_decoded_preds = processor_lm.batch_decode(vl_logits, beam_width=100, num_processes=8)"
   ]
  },
  {
   "cell_type": "code",
   "execution_count": 61,
   "id": "0b98c0bf",
   "metadata": {},
   "outputs": [
    {
     "data": {
      "text/plain": [
       "['ճանապարհի կեսն է',\n",
       " 'շամե գնում էին երևան',\n",
       " 'ինչ վերաբերվում է ամքոր միջազգային կազմակերպությանը',\n",
       " 'հիմնականում մայսները գնում են սիլիկոնյան հովիտ',\n",
       " 'տարածման ժամանակակից ու արդյունավետ այտերը',\n",
       " 'ինչու նաև',\n",
       " 'ռոպէր քոչարյանի փաստաբանների ընտրած մարտավարության',\n",
       " 'հաննագրիքորյան և րգմանուկյանաշոցարքսիան այսօր',\n",
       " 'տաշել ասի գէախալում',\n",
       " 'այլապես այս քամբեք իրականություն չէր դառնա']"
      ]
     },
     "execution_count": 61,
     "metadata": {},
     "output_type": "execute_result"
    }
   ],
   "source": [
    "vl_decoded_preds.text[:10]"
   ]
  },
  {
   "cell_type": "code",
   "execution_count": 62,
   "id": "90eabac8",
   "metadata": {},
   "outputs": [
    {
     "data": {
      "text/plain": [
       "[-12.35923369838104,\n",
       " -30.3769261717412,\n",
       " -26.37022658856078,\n",
       " -51.1881242531656,\n",
       " -42.20113835486087,\n",
       " -7.537985312772793,\n",
       " -43.072356623004666,\n",
       " -68.51194965704599,\n",
       " -63.09046945295047,\n",
       " -38.81879677106827]"
      ]
     },
     "execution_count": 62,
     "metadata": {},
     "output_type": "execute_result"
    }
   ],
   "source": [
    "vl_decoded_preds.lm_score[:10]"
   ]
  },
  {
   "cell_type": "code",
   "execution_count": 63,
   "id": "646e87f1",
   "metadata": {},
   "outputs": [],
   "source": [
    "text_length = np.array([len(s) for s in vl_decoded_preds.text])\n",
    "lm_scores = np.array(vl_decoded_preds.lm_score)"
   ]
  },
  {
   "cell_type": "code",
   "execution_count": 64,
   "id": "b248f4e0",
   "metadata": {},
   "outputs": [
    {
     "data": {
      "text/plain": [
       "[<matplotlib.lines.Line2D at 0x7fce33161a30>]"
      ]
     },
     "execution_count": 64,
     "metadata": {},
     "output_type": "execute_result"
    },
    {
     "data": {
      "image/png": "[encoded data removed]",
      "text/plain": [
       "<Figure size 432x288 with 1 Axes>"
      ]
     },
     "metadata": {
      "needs_background": "light"
     },
     "output_type": "display_data"
    }
   ],
   "source": [
    "import matplotlib.pyplot as plt\n",
    "\n",
    "fig, ax = plt.subplots()\n",
    "ax.scatter(text_length[:1000], lm_scores[:1000])\n",
    "x = np.array([20, 100])\n",
    "ax.plot(x, a*x+b, \"r\")"
   ]
  },
  {
   "cell_type": "code",
   "execution_count": 65,
   "id": "74908670",
   "metadata": {},
   "outputs": [],
   "source": [
    "vl_scores = (lm_scores - a*text_length - b)/ np.sqrt(text_length) / std"
   ]
  },
  {
   "cell_type": "code",
   "execution_count": 70,
   "id": "2d7cab65",
   "metadata": {},
   "outputs": [
    {
     "name": "stdout",
     "output_type": "stream",
     "text": [
      "Selected 553/20694 examples after filtering\n"
     ]
    }
   ],
   "source": [
    "mask = vl_scores > .4\n",
    "\n",
    "print(f\"Selected {mask.sum()}/{len(mask)} examples after filtering\")"
   ]
  },
  {
   "cell_type": "code",
   "execution_count": 71,
   "id": "ae3dad75",
   "metadata": {},
   "outputs": [
    {
     "data": {
      "text/plain": [
       "728"
      ]
     },
     "execution_count": 71,
     "metadata": {},
     "output_type": "execute_result"
    }
   ],
   "source": [
    "len(common_voice_train)"
   ]
  },
  {
   "cell_type": "code",
   "execution_count": 72,
   "id": "afe611fb",
   "metadata": {},
   "outputs": [
    {
     "name": "stdout",
     "output_type": "stream",
     "text": [
      "lm_score\t|adj_score\t| text\n",
      "----------------------------------------------------------------------------------------------------\n",
      "-12.36\t\t|1.04\t\t| ճանապարհի կեսն է\n",
      "-26.37\t\t|0.87\t\t| ինչ վերաբերվում է ամքոր միջազգային կազմակերպությանը\n",
      "-7.54\t\t|1.43\t\t| ինչու նաև\n",
      "-29.84\t\t|0.54\t\t| տարածաշրջանում իրավիճակը խիստ անհանգիստ\n",
      "-36.64\t\t|0.46\t\t| պատմության ընթացքում հայաստանցի գործարարները ճրագ\n",
      "-23.88\t\t|0.69\t\t| մեր առաջարկն է բոլոր ներդրողներին\n",
      "-38.15\t\t|0.40\t\t| հուզմունքի արտահայտությունները կամ հազվադեպ բառեր\n",
      "-36.44\t\t|0.57\t\t| ով օրինական ճանապարով վերադառնալ ռուսաստանի դաշնություն\n",
      "-32.75\t\t|0.64\t\t| մասին է որը հայաստանի միջազգային պարտավորությունն և\n",
      "-24.39\t\t|0.71\t\t| հատկապես մտահոգիչ են արտագաղթի թվերը\n"
     ]
    }
   ],
   "source": [
    "idx = np.arange(len(mask))[mask]\n",
    "print(\"lm_score\\t|adj_score\\t| text\")\n",
    "print(\"-\"*100)\n",
    "for i, _ in zip(idx, range(10)):\n",
    "    \n",
    "    print(f\"{lm_scores[i]:.2f}\\t\\t|{vl_scores[i]:.2f}\\t\\t|\", vl_decoded_preds.text[i])"
   ]
  },
  {
   "cell_type": "code",
   "execution_count": 73,
   "id": "9d08a678",
   "metadata": {},
   "outputs": [],
   "source": [
    "labeled_dataset = filtered_dataset.select(idx)"
   ]
  },
  {
   "cell_type": "code",
   "execution_count": 74,
   "id": "9da801af",
   "metadata": {},
   "outputs": [],
   "source": [
    "paths = labeled_dataset[\"path\"]"
   ]
  },
  {
   "cell_type": "code",
   "execution_count": 75,
   "id": "95500a9c",
   "metadata": {},
   "outputs": [],
   "source": [
    "from datasets import Dataset, DatasetDict\n",
    "\n",
    "labeled_dataset = Dataset.from_dict({\"path\":paths, \"audio\":paths, \"sentence\":[vl_decoded_preds.text[i] for i in idx]})"
   ]
  },
  {
   "cell_type": "code",
   "execution_count": 76,
   "id": "d0d02506",
   "metadata": {},
   "outputs": [],
   "source": [
    "labeled_dataset = labeled_dataset.cast_column(\"audio\", Audio(sampling_rate))"
   ]
  },
  {
   "cell_type": "code",
   "execution_count": 77,
   "id": "6a978876",
   "metadata": {},
   "outputs": [],
   "source": [
    "labeled_dataset.save_to_disk(\"/workspace/data/hy/vox_lingua_hy_labeled_1\")"
   ]
  },
  {
   "cell_type": "code",
   "execution_count": 78,
   "id": "80516de2",
   "metadata": {},
   "outputs": [],
   "source": [
    "from datasets import interleave_datasets, concatenate_datasets, DatasetDict, load_from_disk"
   ]
  },
  {
   "cell_type": "code",
   "execution_count": 79,
   "id": "92261b28",
   "metadata": {},
   "outputs": [
    {
     "data": {
      "text/plain": [
       "553"
      ]
     },
     "execution_count": 79,
     "metadata": {},
     "output_type": "execute_result"
    }
   ],
   "source": [
    "len(labeled_dataset)"
   ]
  },
  {
   "cell_type": "code",
   "execution_count": 80,
   "id": "01ab69aa",
   "metadata": {},
   "outputs": [
    {
     "name": "stderr",
     "output_type": "stream",
     "text": [
      "Reusing dataset common_voice (/workspace/cache/hf/datasets/mozilla-foundation___common_voice/hy-AM/8.0.0/b8bc4d453193c06a43269b46cd87f075c70f152ac963b7f28f7a2760c45ec3e8)\n",
      "Reusing dataset common_voice (/workspace/cache/hf/datasets/mozilla-foundation___common_voice/hy-AM/8.0.0/b8bc4d453193c06a43269b46cd87f075c70f152ac963b7f28f7a2760c45ec3e8)\n",
      "Loading cached processed dataset at /workspace/cache/hf/datasets/mozilla-foundation___common_voice/hy-AM/8.0.0/b8bc4d453193c06a43269b46cd87f075c70f152ac963b7f28f7a2760c45ec3e8/cache-538204f68496f96c.arrow\n",
      "Loading cached processed dataset at /workspace/cache/hf/datasets/mozilla-foundation___common_voice/hy-AM/8.0.0/b8bc4d453193c06a43269b46cd87f075c70f152ac963b7f28f7a2760c45ec3e8/cache-2627172e65c3a3ff.arrow\n"
     ]
    }
   ],
   "source": [
    "common_voice_train = load_dataset(\"mozilla-foundation/common_voice_8_0\", lang_id, split=\"train+validation\", use_auth_token=True)\n",
    "common_voice_test = load_dataset(\"mozilla-foundation/common_voice_8_0\", lang_id, split=\"test\", use_auth_token=True)\n",
    "common_voice_train = common_voice_train.remove_columns([\"accent\", \"age\", \"gender\", \"client_id\", \"down_votes\", \"locale\", \"segment\", \"up_votes\"])\n",
    "common_voice_test = common_voice_test.remove_columns([\"accent\", \"age\", \"gender\", \"client_id\", \"down_votes\", \"locale\", \"segment\", \"up_votes\"])\n",
    "common_voice_train = common_voice_train.cast_column(\"audio\", Audio(sampling_rate=16_000))\n",
    "common_voice_test = common_voice_test.cast_column(\"audio\", Audio(sampling_rate=16_000))\n",
    "common_voice_train = common_voice_train.map(normalize_text)\n",
    "common_voice_test = common_voice_test.map(normalize_text)"
   ]
  },
  {
   "cell_type": "code",
   "execution_count": 81,
   "id": "acc4518f",
   "metadata": {},
   "outputs": [
    {
     "data": {
      "text/plain": [
       "array([0.56830601, 0.43169399])"
      ]
     },
     "execution_count": 81,
     "metadata": {},
     "output_type": "execute_result"
    }
   ],
   "source": [
    "probs = np.array([len(common_voice_train), len(labeled_dataset)]) / (len(common_voice_train) + len(labeled_dataset))\n",
    "probs"
   ]
  },
  {
   "cell_type": "code",
   "execution_count": 82,
   "id": "80964037",
   "metadata": {},
   "outputs": [],
   "source": [
    "# train_dataset = interleave_datasets([common_voice_train, labeled_dataset], probabilities=probs)\n",
    "train_dataset = concatenate_datasets([common_voice_train, labeled_dataset])"
   ]
  },
  {
   "cell_type": "code",
   "execution_count": 83,
   "id": "5a58796c",
   "metadata": {},
   "outputs": [
    {
     "data": {
      "text/plain": [
       "1281"
      ]
     },
     "execution_count": 83,
     "metadata": {},
     "output_type": "execute_result"
    }
   ],
   "source": [
    "len(train_dataset)"
   ]
  },
  {
   "cell_type": "code",
   "execution_count": 84,
   "id": "28df9446",
   "metadata": {},
   "outputs": [],
   "source": [
    "noizy_student_ds = DatasetDict({\"train\":train_dataset, \"test\":common_voice_test})"
   ]
  },
  {
   "cell_type": "code",
   "execution_count": 85,
   "id": "3613cf5b",
   "metadata": {},
   "outputs": [],
   "source": [
    "noizy_student_ds.save_to_disk(\"/workspace/data/hy/noizy_student_1_demo\")"
   ]
  },
  {
   "cell_type": "code",
   "execution_count": 89,
   "id": "81147399",
   "metadata": {},
   "outputs": [
    {
     "ename": "FileNotFoundError",
     "evalue": "Directory /workspace/data/hy/noizy_student_1_demo/train not found",
     "output_type": "error",
     "traceback": [
      "\u001b[0;31m---------------------------------------------------------------------------\u001b[0m",
      "\u001b[0;31mFileNotFoundError\u001b[0m                         Traceback (most recent call last)",
      "\u001b[0;32m<ipython-input-89-aecdacac37dd>\u001b[0m in \u001b[0;36m<module>\u001b[0;34m\u001b[0m\n\u001b[0;32m----> 1\u001b[0;31m \u001b[0mtrain_dataset\u001b[0m \u001b[0;34m=\u001b[0m \u001b[0mload_from_disk\u001b[0m\u001b[0;34m(\u001b[0m\u001b[0;34m\"/workspace/data/hy/noizy_student_1_demo/train\"\u001b[0m\u001b[0;34m)\u001b[0m\u001b[0;34m\u001b[0m\u001b[0;34m\u001b[0m\u001b[0m\n\u001b[0m\u001b[1;32m      2\u001b[0m \u001b[0mtest_dataset\u001b[0m \u001b[0;34m=\u001b[0m \u001b[0mload_from_disk\u001b[0m\u001b[0;34m(\u001b[0m\u001b[0;34m\"/workspace/data/hy/noizy_student_1_demo/test\"\u001b[0m\u001b[0;34m)\u001b[0m\u001b[0;34m\u001b[0m\u001b[0;34m\u001b[0m\u001b[0m\n\u001b[1;32m      3\u001b[0m \u001b[0mlen\u001b[0m\u001b[0;34m(\u001b[0m\u001b[0mtrain_dataset\u001b[0m\u001b[0;34m)\u001b[0m\u001b[0;34m,\u001b[0m \u001b[0mlen\u001b[0m\u001b[0;34m(\u001b[0m\u001b[0mtest_dataset\u001b[0m\u001b[0;34m)\u001b[0m\u001b[0;34m\u001b[0m\u001b[0;34m\u001b[0m\u001b[0m\n",
      "\u001b[0;32m~/data/git/datasets/src/datasets/load.py\u001b[0m in \u001b[0;36mload_from_disk\u001b[0;34m(dataset_path, fs, keep_in_memory)\u001b[0m\n\u001b[1;32m   1751\u001b[0m \u001b[0;34m\u001b[0m\u001b[0m\n\u001b[1;32m   1752\u001b[0m     \u001b[0;32mif\u001b[0m \u001b[0;32mnot\u001b[0m \u001b[0mfs\u001b[0m\u001b[0;34m.\u001b[0m\u001b[0mexists\u001b[0m\u001b[0;34m(\u001b[0m\u001b[0mdest_dataset_path\u001b[0m\u001b[0;34m)\u001b[0m\u001b[0;34m:\u001b[0m\u001b[0;34m\u001b[0m\u001b[0;34m\u001b[0m\u001b[0m\n\u001b[0;32m-> 1753\u001b[0;31m         \u001b[0;32mraise\u001b[0m \u001b[0mFileNotFoundError\u001b[0m\u001b[0;34m(\u001b[0m\u001b[0;34mf\"Directory {dataset_path} not found\"\u001b[0m\u001b[0;34m)\u001b[0m\u001b[0;34m\u001b[0m\u001b[0;34m\u001b[0m\u001b[0m\n\u001b[0m\u001b[1;32m   1754\u001b[0m     \u001b[0;32mif\u001b[0m \u001b[0mfs\u001b[0m\u001b[0;34m.\u001b[0m\u001b[0misfile\u001b[0m\u001b[0;34m(\u001b[0m\u001b[0mPath\u001b[0m\u001b[0;34m(\u001b[0m\u001b[0mdest_dataset_path\u001b[0m\u001b[0;34m,\u001b[0m \u001b[0mconfig\u001b[0m\u001b[0;34m.\u001b[0m\u001b[0mDATASET_INFO_FILENAME\u001b[0m\u001b[0;34m)\u001b[0m\u001b[0;34m.\u001b[0m\u001b[0mas_posix\u001b[0m\u001b[0;34m(\u001b[0m\u001b[0;34m)\u001b[0m\u001b[0;34m)\u001b[0m\u001b[0;34m:\u001b[0m\u001b[0;34m\u001b[0m\u001b[0;34m\u001b[0m\u001b[0m\n\u001b[1;32m   1755\u001b[0m         \u001b[0;32mreturn\u001b[0m \u001b[0mDataset\u001b[0m\u001b[0;34m.\u001b[0m\u001b[0mload_from_disk\u001b[0m\u001b[0;34m(\u001b[0m\u001b[0mdataset_path\u001b[0m\u001b[0;34m,\u001b[0m \u001b[0mfs\u001b[0m\u001b[0;34m,\u001b[0m \u001b[0mkeep_in_memory\u001b[0m\u001b[0;34m=\u001b[0m\u001b[0mkeep_in_memory\u001b[0m\u001b[0;34m)\u001b[0m\u001b[0;34m\u001b[0m\u001b[0;34m\u001b[0m\u001b[0m\n",
      "\u001b[0;31mFileNotFoundError\u001b[0m: Directory /workspace/data/hy/noizy_student_1_demo/train not found"
     ]
    }
   ],
   "source": [
    "train_dataset = load_from_disk(\"/workspace/data/hy/noizy_student_1_demo/train\")\n",
    "test_dataset = load_from_disk(\"/workspace/data/hy/noizy_student_1_demo/test\")\n",
    "len(train_dataset), len(test_dataset)"
   ]
  },
  {
   "cell_type": "markdown",
   "id": "7e0e3597",
   "metadata": {},
   "source": [
    "You might also check out some of the selected samples to assess label quality manually. Even"
   ]
  },
  {
   "cell_type": "code",
   "execution_count": 98,
   "id": "5672261f",
   "metadata": {},
   "outputs": [
    {
     "name": "stdout",
     "output_type": "stream",
     "text": [
      "fordi vi netop har været vidne til i europa\n",
      "lm_score -13.63| score 0.66\n"
     ]
    },
    {
     "data": {
      "text/html": [
       "\n",
       "                <audio  controls=\"controls\" autoplay=\"autoplay\">\n",
       "                    <source src=\"data:audio/wav;base64,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\" type=\"audio/wav\" />\n",
       "                    Your browser does not support the audio element.\n",
       "                </audio>\n",
       "              "
      ],
      "text/plain": [
       "<IPython.lib.display.Audio object>"
      ]
     },
     "execution_count": 98,
     "metadata": {},
     "output_type": "execute_result"
    }
   ],
   "source": [
    "import IPython.display as ipd\n",
    "import numpy as np\n",
    "import random\n",
    "\n",
    "i = int(random.choice(idx))\n",
    "\n",
    "print(vl_decoded_preds.text[i])\n",
    "print(f\"lm_score {lm_scores[i]:.2f}| score {vl_scores[i]:.2f}\")\n",
    "ipd.Audio(data=filtered_dataset[i][\"audio\"][\"array\"], autoplay=True, rate=16000)"
   ]
  },
  {
   "cell_type": "code",
   "execution_count": 84,
   "id": "fdd9d20a",
   "metadata": {},
   "outputs": [],
   "source": [
    "del trainer, model\n",
    "torch.cuda.empty_cache()"
   ]
  },
  {
   "cell_type": "code",
   "execution_count": null,
   "id": "d499edc6",
   "metadata": {},
   "outputs": [],
   "source": [
    "train_dataset = train_dataset.map(prepare_dataset, remove_columns=train_dataset.column_names)\n",
    "test_dataset = test_dataset.map(prepare_dataset, remove_columns=common_voice_test.column_names)"
   ]
  },
  {
   "cell_type": "code",
   "execution_count": 91,
   "id": "6038ddc6",
   "metadata": {
    "colab": {
     "base_uri": "https://localhost:8080/",
     "height": 202,
     "referenced_widgets": [
      "3d98529fc03b4a1c993ef8396da8b3f5",
      "cbe43b463a8948b9a6fd41f14379fb19",
      "5ae06bfca32144168e193b0e0c471bcd",
      "10d741759c794f8c937de0b8e3f800aa",
      "37450ec775fc411cb019818b5e6a1aa4",
      "b9173dc1e2e54bd997f38da4a5b70db6",
      "4d389243b3f64592acd8ff922ceb946e",
      "007e2af1ea764fbb98874a29fc2de662",
      "693409ef7b5743eeae85804f6bb25bff",
      "b8257dfc101148439890a067ac84bb08",
      "28c2571648c74303b0cee0d1856ecee2",
      "76baadab73da44e1bb5f192448249b90",
      "daece760a4e64a01b6880a6b87a456ba",
      "d85074703d7e40839886fb9460edd8f0",
      "c71978fc2c334323b0bd40af00b77b6d",
      "62ceca1310c548828afda3868b307ace",
      "07cffa560a48457da3f012ac3a141a1a",
      "2fcf861f03db4843a3a5814faf96d1c0",
      "71abd4329de8425f81f91319573e1be7",
      "d51533ffb9dc4cb2bc428a38f9118553",
      "b4a1277136174892bc35081a69e09565",
      "c95af9318d724050abda918fd3267abe"
     ]
    },
    "id": "e7cqAWIayn6w",
    "outputId": "e7d5a7c6-4e89-44f9-bae7-ef80e963538a"
   },
   "outputs": [
    {
     "name": "stderr",
     "output_type": "stream",
     "text": [
      "loading configuration file https://huggingface.co/facebook/wav2vec2-xls-r-300m/resolve/main/config.json from cache at /workspace/cache/hf/transformers/dabc27df63e37bd2a7a221c7774e35f36a280fbdf917cf54cadfc7df8c786f6f.a3e4c3c967d9985881e0ae550a5f6f668f897db5ab2e0802f9b97973b15970e6\n",
      "Model config Wav2Vec2Config {\n",
      "  \"activation_dropout\": 0.0,\n",
      "  \"adapter_kernel_size\": 3,\n",
      "  \"adapter_stride\": 2,\n",
      "  \"add_adapter\": false,\n",
      "  \"apply_spec_augment\": true,\n",
      "  \"architectures\": [\n",
      "    \"Wav2Vec2ForPreTraining\"\n",
      "  ],\n",
      "  \"attention_dropout\": 0.0,\n",
      "  \"bos_token_id\": 1,\n",
      "  \"classifier_proj_size\": 256,\n",
      "  \"codevector_dim\": 768,\n",
      "  \"contrastive_logits_temperature\": 0.1,\n",
      "  \"conv_bias\": true,\n",
      "  \"conv_dim\": [\n",
      "    512,\n",
      "    512,\n",
      "    512,\n",
      "    512,\n",
      "    512,\n",
      "    512,\n",
      "    512\n",
      "  ],\n",
      "  \"conv_kernel\": [\n",
      "    10,\n",
      "    3,\n",
      "    3,\n",
      "    3,\n",
      "    3,\n",
      "    2,\n",
      "    2\n",
      "  ],\n",
      "  \"conv_stride\": [\n",
      "    5,\n",
      "    2,\n",
      "    2,\n",
      "    2,\n",
      "    2,\n",
      "    2,\n",
      "    2\n",
      "  ],\n",
      "  \"ctc_loss_reduction\": \"mean\",\n",
      "  \"ctc_zero_infinity\": false,\n",
      "  \"diversity_loss_weight\": 0.1,\n",
      "  \"do_stable_layer_norm\": true,\n",
      "  \"eos_token_id\": 2,\n",
      "  \"feat_extract_activation\": \"gelu\",\n",
      "  \"feat_extract_dropout\": 0.0,\n",
      "  \"feat_extract_norm\": \"layer\",\n",
      "  \"feat_proj_dropout\": 0.0,\n",
      "  \"feat_quantizer_dropout\": 0.0,\n",
      "  \"final_dropout\": 0.0,\n",
      "  \"gradient_checkpointing\": false,\n",
      "  \"hidden_act\": \"gelu\",\n",
      "  \"hidden_dropout\": 0.1,\n",
      "  \"hidden_size\": 1024,\n",
      "  \"initializer_range\": 0.02,\n",
      "  \"intermediate_size\": 4096,\n",
      "  \"layer_norm_eps\": 1e-05,\n",
      "  \"layerdrop\": 0.05,\n",
      "  \"mask_feature_length\": 64,\n",
      "  \"mask_feature_min_masks\": 0,\n",
      "  \"mask_feature_prob\": 0.25,\n",
      "  \"mask_time_length\": 10,\n",
      "  \"mask_time_min_masks\": 2,\n",
      "  \"mask_time_prob\": 0.75,\n",
      "  \"model_type\": \"wav2vec2\",\n",
      "  \"num_adapter_layers\": 3,\n",
      "  \"num_attention_heads\": 16,\n",
      "  \"num_codevector_groups\": 2,\n",
      "  \"num_codevectors_per_group\": 320,\n",
      "  \"num_conv_pos_embedding_groups\": 16,\n",
      "  \"num_conv_pos_embeddings\": 128,\n",
      "  \"num_feat_extract_layers\": 7,\n",
      "  \"num_hidden_layers\": 24,\n",
      "  \"num_negatives\": 100,\n",
      "  \"output_hidden_size\": 1024,\n",
      "  \"pad_token_id\": 41,\n",
      "  \"proj_codevector_dim\": 768,\n",
      "  \"tdnn_dilation\": [\n",
      "    1,\n",
      "    2,\n",
      "    3,\n",
      "    1,\n",
      "    1\n",
      "  ],\n",
      "  \"tdnn_dim\": [\n",
      "    512,\n",
      "    512,\n",
      "    512,\n",
      "    512,\n",
      "    1500\n",
      "  ],\n",
      "  \"tdnn_kernel\": [\n",
      "    5,\n",
      "    3,\n",
      "    3,\n",
      "    1,\n",
      "    1\n",
      "  ],\n",
      "  \"torch_dtype\": \"float32\",\n",
      "  \"transformers_version\": \"4.17.0.dev0\",\n",
      "  \"use_weighted_layer_sum\": false,\n",
      "  \"vocab_size\": 44,\n",
      "  \"xvector_output_dim\": 512\n",
      "}\n",
      "\n",
      "loading weights file https://huggingface.co/facebook/wav2vec2-xls-r-300m/resolve/main/pytorch_model.bin from cache at /workspace/cache/hf/transformers/1e6a6507f3b689035cd4b247e2a37c154e27f39143f31357a49b4e38baeccc36.1edb32803799e27ed554eb7dd935f6745b1a0b17b0ea256442fe24db6eb546cd\n",
      "Some weights of the model checkpoint at facebook/wav2vec2-xls-r-300m were not used when initializing Wav2Vec2ForCTC: ['project_q.weight', 'quantizer.weight_proj.bias', 'project_q.bias', 'quantizer.codevectors', 'project_hid.weight', 'project_hid.bias', 'quantizer.weight_proj.weight']\n",
      "- This IS expected if you are initializing Wav2Vec2ForCTC from the checkpoint of a model trained on another task or with another architecture (e.g. initializing a BertForSequenceClassification model from a BertForPreTraining model).\n",
      "- This IS NOT expected if you are initializing Wav2Vec2ForCTC from the checkpoint of a model that you expect to be exactly identical (initializing a BertForSequenceClassification model from a BertForSequenceClassification model).\n",
      "Some weights of Wav2Vec2ForCTC were not initialized from the model checkpoint at facebook/wav2vec2-xls-r-300m and are newly initialized: ['lm_head.weight', 'lm_head.bias']\n",
      "You should probably TRAIN this model on a down-stream task to be able to use it for predictions and inference.\n"
     ]
    }
   ],
   "source": [
    "model = Wav2Vec2ForCTC.from_pretrained(\n",
    "    \"facebook/wav2vec2-xls-r-300m\", \n",
    "    attention_dropout=0.0,\n",
    "    hidden_dropout=0.1,\n",
    "    feat_proj_dropout=0.0,\n",
    "    mask_time_prob=0.75,\n",
    "    mask_feature_prob=0.25,\n",
    "    mask_feature_length=64,\n",
    "    layerdrop=0.05,\n",
    "    ctc_loss_reduction=\"mean\", \n",
    "    pad_token_id=processor.tokenizer.pad_token_id,\n",
    "    vocab_size=len(processor.tokenizer),\n",
    ")\n",
    "model.freeze_feature_encoder();"
   ]
  },
  {
   "cell_type": "code",
   "execution_count": 92,
   "id": "502adbc1",
   "metadata": {
    "id": "OFRNe62dC9uN"
   },
   "outputs": [],
   "source": [
    "num_training_steps = 1600"
   ]
  },
  {
   "cell_type": "code",
   "execution_count": 93,
   "id": "9b25275d",
   "metadata": {
    "id": "-ZvOsbLpC9uO"
   },
   "outputs": [],
   "source": [
    "optimizer = bnb.optim.AdamW8bit(model.parameters(), lr=8e-5, betas=(0.9, 0.98), eps=1e-8, weight_decay=0.)\n",
    "\n",
    "scheduler = get_tri_stage_schedule(optimizer, num_training_steps)"
   ]
  },
  {
   "cell_type": "code",
   "execution_count": 94,
   "id": "5dc7777a",
   "metadata": {
    "id": "KbeKSV7uzGPP"
   },
   "outputs": [
    {
     "name": "stderr",
     "output_type": "stream",
     "text": [
      "PyTorch: setting up devices\n"
     ]
    }
   ],
   "source": [
    "training_args = TrainingArguments(\n",
    "    output_dir=model_dir,\n",
    "    group_by_length=True,\n",
    "    per_device_train_batch_size=32,\n",
    "    per_device_eval_batch_size=32,\n",
    "    gradient_accumulation_steps=4,\n",
    "    dataloader_num_workers=8,\n",
    "    evaluation_strategy=\"steps\",\n",
    "    max_steps=num_training_steps,\n",
    "    gradient_checkpointing=True,\n",
    "    fp16=True,\n",
    "    save_steps=200,\n",
    "    eval_steps=200,\n",
    "    logging_steps=200,\n",
    "    learning_rate=8e-5,\n",
    "    save_total_limit=4,\n",
    "    push_to_hub=False,\n",
    "    run_name=\"xlsr-300m-hy-demo-2\",\n",
    "    report_to=\"wandb\",\n",
    "    load_best_model_at_end=True,\n",
    ")"
   ]
  },
  {
   "cell_type": "code",
   "execution_count": 95,
   "id": "25a50654",
   "metadata": {
    "colab": {
     "base_uri": "https://localhost:8080/"
    },
    "id": "rY7vBmFCPFgC",
    "outputId": "7ba982d8-ba6e-4315-b0d0-4d991681c7f1"
   },
   "outputs": [
    {
     "name": "stderr",
     "output_type": "stream",
     "text": [
      "max_steps is given, it will override any value given in num_train_epochs\n",
      "Using amp half precision backend\n"
     ]
    }
   ],
   "source": [
    "trainer = Trainer(\n",
    "    model=model,\n",
    "    data_collator=data_collator,\n",
    "    args=training_args,\n",
    "    compute_metrics=compute_metrics,\n",
    "    train_dataset=train_dataset,\n",
    "    eval_dataset=test_dataset,\n",
    "    tokenizer=processor.feature_extractor,\n",
    "    optimizers=(optimizer, scheduler)\n",
    ")"
   ]
  },
  {
   "cell_type": "markdown",
   "id": "a18372d1",
   "metadata": {
    "id": "rpvZHM1xReIW"
   },
   "source": [
    "### Training"
   ]
  },
  {
   "cell_type": "code",
   "execution_count": null,
   "id": "c45b9676",
   "metadata": {
    "colab": {
     "base_uri": "https://localhost:8080/",
     "height": 801
    },
    "id": "9fRr9TG5pGBl",
    "outputId": "e6a81df7-07c9-4ffe-d292-2e8e64000fe1"
   },
   "outputs": [
    {
     "name": "stderr",
     "output_type": "stream",
     "text": [
      "The following columns in the training set  don't have a corresponding argument in `Wav2Vec2ForCTC.forward` and have been ignored: length.\n",
      "***** Running training *****\n",
      "  Num examples = 1281\n",
      "  Num Epochs = 160\n",
      "  Instantaneous batch size per device = 32\n",
      "  Total train batch size (w. parallel, distributed & accumulation) = 128\n",
      "  Gradient Accumulation steps = 4\n",
      "  Total optimization steps = 1600\n",
      "Automatic Weights & Biases logging enabled, to disable set os.environ[\"WANDB_DISABLED\"] = \"true\"\n",
      "\u001b[34m\u001b[1mwandb\u001b[0m: wandb version 0.12.10 is available!  To upgrade, please run:\n",
      "\u001b[34m\u001b[1mwandb\u001b[0m:  $ pip install wandb --upgrade\n"
     ]
    },
    {
     "data": {
      "text/html": [
       "\n",
       "                    Syncing run <strong><a href=\"https://wandb.ai/arampacha/xlsr-hy/runs/2i2r4l7z\" target=\"_blank\">xlsr-300m-hy-demo-2</a></strong> to <a href=\"https://wandb.ai/arampacha/xlsr-hy\" target=\"_blank\">Weights & Biases</a> (<a href=\"https://docs.wandb.com/integrations/jupyter.html\" target=\"_blank\">docs</a>).<br/>\n",
       "\n",
       "                "
      ],
      "text/plain": [
       "<IPython.core.display.HTML object>"
      ]
     },
     "metadata": {},
     "output_type": "display_data"
    },
    {
     "data": {
      "text/html": [
       "\n",
       "    <div>\n",
       "      \n",
       "      <progress value='1021' max='1600' style='width:300px; height:20px; vertical-align: middle;'></progress>\n",
       "      [1021/1600 1:18:58 < 44:52, 0.22 it/s, Epoch 101.98/160]\n",
       "    </div>\n",
       "    <table border=\"1\" class=\"dataframe\">\n",
       "  <thead>\n",
       " <tr style=\"text-align: left;\">\n",
       "      <th>Step</th>\n",
       "      <th>Training Loss</th>\n",
       "      <th>Validation Loss</th>\n",
       "      <th>Wer</th>\n",
       "      <th>Cer</th>\n",
       "    </tr>\n",
       "  </thead>\n",
       "  <tbody>\n",
       "    <tr>\n",
       "      <td>200</td>\n",
       "      <td>6.938900</td>\n",
       "      <td>3.195832</td>\n",
       "      <td>1.000000</td>\n",
       "      <td>1.000000</td>\n",
       "    </tr>\n",
       "    <tr>\n",
       "      <td>400</td>\n",
       "      <td>3.250400</td>\n",
       "      <td>3.141035</td>\n",
       "      <td>1.000000</td>\n",
       "      <td>1.000000</td>\n",
       "    </tr>\n",
       "    <tr>\n",
       "      <td>600</td>\n",
       "      <td>2.789400</td>\n",
       "      <td>1.334666</td>\n",
       "      <td>0.951210</td>\n",
       "      <td>0.312089</td>\n",
       "    </tr>\n",
       "    <tr>\n",
       "      <td>800</td>\n",
       "      <td>1.714000</td>\n",
       "      <td>0.573159</td>\n",
       "      <td>0.674863</td>\n",
       "      <td>0.145928</td>\n",
       "    </tr>\n",
       "    <tr>\n",
       "      <td>1000</td>\n",
       "      <td>1.330500</td>\n",
       "      <td>0.458515</td>\n",
       "      <td>0.570258</td>\n",
       "      <td>0.117451</td>\n",
       "    </tr>\n",
       "  </tbody>\n",
       "</table><p>"
      ],
      "text/plain": [
       "<IPython.core.display.HTML object>"
      ]
     },
     "metadata": {},
     "output_type": "display_data"
    },
    {
     "name": "stderr",
     "output_type": "stream",
     "text": [
      "The following columns in the evaluation set  don't have a corresponding argument in `Wav2Vec2ForCTC.forward` and have been ignored: length.\n",
      "***** Running Evaluation *****\n",
      "  Num examples = 335\n",
      "  Batch size = 32\n",
      "Saving model checkpoint to wav2vec2-xls-r-300m-hy-ns/checkpoint-200\n",
      "Configuration saved in wav2vec2-xls-r-300m-hy-ns/checkpoint-200/config.json\n",
      "Model weights saved in wav2vec2-xls-r-300m-hy-ns/checkpoint-200/pytorch_model.bin\n",
      "Configuration saved in wav2vec2-xls-r-300m-hy-ns/checkpoint-200/preprocessor_config.json\n",
      "Deleting older checkpoint [wav2vec2-xls-r-300m-hy-ns/checkpoint-1000] due to args.save_total_limit\n",
      "The following columns in the evaluation set  don't have a corresponding argument in `Wav2Vec2ForCTC.forward` and have been ignored: length.\n",
      "***** Running Evaluation *****\n",
      "  Num examples = 335\n",
      "  Batch size = 32\n",
      "Saving model checkpoint to wav2vec2-xls-r-300m-hy-ns/checkpoint-400\n",
      "Configuration saved in wav2vec2-xls-r-300m-hy-ns/checkpoint-400/config.json\n",
      "Model weights saved in wav2vec2-xls-r-300m-hy-ns/checkpoint-400/pytorch_model.bin\n",
      "Configuration saved in wav2vec2-xls-r-300m-hy-ns/checkpoint-400/preprocessor_config.json\n",
      "Deleting older checkpoint [wav2vec2-xls-r-300m-hy-ns/checkpoint-1200] due to args.save_total_limit\n",
      "The following columns in the evaluation set  don't have a corresponding argument in `Wav2Vec2ForCTC.forward` and have been ignored: length.\n",
      "***** Running Evaluation *****\n",
      "  Num examples = 335\n",
      "  Batch size = 32\n",
      "Saving model checkpoint to wav2vec2-xls-r-300m-hy-ns/checkpoint-600\n",
      "Configuration saved in wav2vec2-xls-r-300m-hy-ns/checkpoint-600/config.json\n",
      "Model weights saved in wav2vec2-xls-r-300m-hy-ns/checkpoint-600/pytorch_model.bin\n",
      "Configuration saved in wav2vec2-xls-r-300m-hy-ns/checkpoint-600/preprocessor_config.json\n",
      "Deleting older checkpoint [wav2vec2-xls-r-300m-hy-ns/checkpoint-1400] due to args.save_total_limit\n",
      "The following columns in the evaluation set  don't have a corresponding argument in `Wav2Vec2ForCTC.forward` and have been ignored: length.\n",
      "***** Running Evaluation *****\n",
      "  Num examples = 335\n",
      "  Batch size = 32\n",
      "Saving model checkpoint to wav2vec2-xls-r-300m-hy-ns/checkpoint-800\n",
      "Configuration saved in wav2vec2-xls-r-300m-hy-ns/checkpoint-800/config.json\n",
      "Model weights saved in wav2vec2-xls-r-300m-hy-ns/checkpoint-800/pytorch_model.bin\n",
      "Configuration saved in wav2vec2-xls-r-300m-hy-ns/checkpoint-800/preprocessor_config.json\n",
      "Deleting older checkpoint [wav2vec2-xls-r-300m-hy-ns/checkpoint-1600] due to args.save_total_limit\n",
      "The following columns in the evaluation set  don't have a corresponding argument in `Wav2Vec2ForCTC.forward` and have been ignored: length.\n",
      "***** Running Evaluation *****\n",
      "  Num examples = 335\n",
      "  Batch size = 32\n",
      "Saving model checkpoint to wav2vec2-xls-r-300m-hy-ns/checkpoint-1000\n",
      "Configuration saved in wav2vec2-xls-r-300m-hy-ns/checkpoint-1000/config.json\n",
      "Model weights saved in wav2vec2-xls-r-300m-hy-ns/checkpoint-1000/pytorch_model.bin\n",
      "Configuration saved in wav2vec2-xls-r-300m-hy-ns/checkpoint-1000/preprocessor_config.json\n",
      "Deleting older checkpoint [wav2vec2-xls-r-300m-hy-ns/checkpoint-200] due to args.save_total_limit\n"
     ]
    }
   ],
   "source": [
    "trainer.train()"
   ]
  },
  {
   "cell_type": "code",
   "execution_count": null,
   "id": "0e2b18ed",
   "metadata": {},
   "outputs": [],
   "source": [
    "preds = trainer.predict(common_voice_test)\n",
    "logits = preds.predictions"
   ]
  },
  {
   "cell_type": "code",
   "execution_count": null,
   "id": "ea3de53d",
   "metadata": {},
   "outputs": [],
   "source": [
    "decoded_preds = processor_lm.batch_decode(logits, beam_width=100, num_processes=8)\n",
    "wer = wer_metric.compute(predictions=decoded_preds.text, references=test_transcripts)\n",
    "cer = cer_metric.compute(predictions=decoded_preds.text, references=test_transcripts)\n",
    "print(f\"{alpha}\\t| {beta}\\t| {wer:.4f}\\t| {cer:.4f}\")"
   ]
  },
  {
   "cell_type": "code",
   "execution_count": null,
   "id": "6c7a8cf5",
   "metadata": {},
   "outputs": [],
   "source": [
    "kwargs = {\n",
    "    \"finetuned_from\": \"facebook/wav2vec2-xls-r-300m\",\n",
    "    \"tasks\": \"speech-recognition\",\n",
    "    \"tags\": [\"automatic-speech-recognition\", data_args.dataset_name],\n",
    "}\n",
    "kwargs[\"language\"] = lang_id\n",
    "\n",
    "trainer.create_model_card(**kwargs)"
   ]
  }
 ],
 "metadata": {
  "kernelspec": {
   "display_name": "Python 3",
   "language": "python",
   "name": "python3"
  },
  "language_info": {
   "codemirror_mode": {
    "name": "ipython",
    "version": 3
   },
   "file_extension": ".py",
   "mimetype": "text/x-python",
   "name": "python",
   "nbconvert_exporter": "python",
   "pygments_lexer": "ipython3",
   "version": "3.8.8"
  }
 },
 "nbformat": 4,
 "nbformat_minor": 5
}
